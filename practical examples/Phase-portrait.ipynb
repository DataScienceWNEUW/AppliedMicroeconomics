{
 "cells": [
  {
   "cell_type": "markdown",
   "metadata": {},
   "source": [
    "# Phase plots"
   ]
  },
  {
   "cell_type": "code",
   "execution_count": 1,
   "metadata": {},
   "outputs": [],
   "source": [
    "import plotdf\n",
    "import scipy\n",
    "import numpy as np\n",
    "import pandas as pd\n",
    "from math import sin\n",
    "from plotdf import plotdf"
   ]
  },
  {
   "cell_type": "markdown",
   "metadata": {},
   "source": [
    "A Phase portrait represents a direction field of first-order Ordinary Differential Equation (ODE) or system of two first-order ODE's. Plotdf function was originally implemented in maxima but it is also possible to create such a plot with matplotlib package or plotdf package.\n",
    "\n",
    "Plotdf package in python is inspired by maxima's plotdf function, thanks to that we will not waste time to do it manually with matplotlib.\n",
    "\n",
    "We can compare maxima's function with plotdf in python by looking in documentations.\n",
    "\n",
    "### In maxima:\n",
    "\n",
    "_source: maxima documentation_\n",
    "\n",
    "**Plot options:**\n",
    "\n",
    "> The plotdf command may include several commands, each command is a list of two or more items. The first item is the name of the option, and the remainder comprises the value or values assigned to the option.\n",
    "\n",
    "**The options which are recognized by plotdf are the following:**\n",
    "> - tstep defines the length of the increments on the independent variable t, used to compute an integral curve. If only one expression dydx is given to plotdf, the x variable will be directly proportional to t. The default value is 0.1.\n",
    "> \n",
    "> - nsteps defines the number of steps of length tstep that will be used for the independent variable, to compute an integral curve. The default value is 100.\n",
    "> \n",
    "> - direction defines the direction of the independent variable that will be followed to compute an integral curve. Possible values are forward, to make the independent variable increase nsteps times, with increments tstep, backward, to make the independent variable decrease, or both that will lead to an integral curve that extends nsteps forward, and nsteps backward. The keywords right and left can be used as synonyms for forward and backward. The default value is both.\n",
    "> \n",
    "> - tinitial defines the initial value of variable t used to compute integral curves. Since the differential equations are autonomous, that setting will only appear in the plot of the curves as functions of t. The default value is 0.\n",
    "> \n",
    "> - versus_t is used to create a second plot window, with a plot of an integral curve, as two functions x, y, of the independent variable t. If versus_t is given any value different from 0, the second plot window will be displayed. The second plot window includes another menu, similar to the menu of the main plot window. The default value is 0.\n",
    "> \n",
    "> - trajectory_at defines the coordinates xinitial and yinitial for the starting point of an integral curve. The option is empty by default.\n",
    "> \n",
    "> - parameters defines a list of parameters, and their numerical values, used in the definition of the differential equations. The name and values of the parameters must be given in a string with a comma-separated sequence of pairs name=value.\n",
    "> \n",
    "> - sliders defines a list of parameters that will be changed interactively using slider buttons, and the range of variation of those parameters. The names and ranges of the parameters must be given in a string with a comma-separated sequence of elements name=min:max\n",
    "> \n",
    "> - xfun defines a string with semi-colon-separated sequence of functions of x to be displayed, on top of the direction field. Those functions will be parsed by Tcl and not by Maxima.\n",
    "> \n",
    "> - x should be followed by two numbers, which will set up the minimum and maximum values shown on the horizontal axis. If the variable on the horizontal axis is not x, then this option should have the name of the variable on the horizontal axis. The default horizontal range is from -10 to 10.\n",
    "> \n",
    "> - y should be followed by two numbers, which will set up the minimum and maximum values shown on the vertical axis. If the variable on the vertical axis is not y, then this option should have the name of the variable on the vertical axis. The default vertical range is from -10 to 10.\n",
    "\n",
    "### In python\n",
    "There is a package plotdf with function plotdf. Below you can see the description of function plotdf in that library."
   ]
  },
  {
   "cell_type": "code",
   "execution_count": 2,
   "metadata": {},
   "outputs": [
    {
     "name": "stdout",
     "output_type": "stream",
     "text": [
      "Help on function plotdf in module plotdf:\n",
      "\n",
      "plotdf(f, xbound, ybound, inits=None, tmax=10, nsteps=100, tdir='both', gridsteps=10, parameters={}, axes=None)\n",
      "    Plot a direction field and optional trajectories of a planar differential\n",
      "    equation system.\n",
      "    \n",
      "    Arguments\n",
      "    -----\n",
      "    \n",
      "    f: A function of of the form f(x) where 'x' is a 2-element numpy\n",
      "       array denoting the current state, 't' is the current time and\n",
      "       we expect 'f' to return the rhs of the differential equation system.\n",
      "    \n",
      "    xbound: a two-element sequence giving the minimum and maximum values of \n",
      "       'x' to plot.\n",
      "    \n",
      "    ybound: a two-element sequence giving the minimum and maximum values of \n",
      "       'y' to plots.\n",
      "    \n",
      "    inits: if not None, gives the set of initial values to plot trajectories from.\n",
      "    \n",
      "    tmax: the maximum value of 't' for which to calculate trajectories\n",
      "    \n",
      "    tdir = \"forward\", \"backward\" or \"both\", time direction in which to \n",
      "           plot trajectories\n",
      "    \n",
      "    nsteps: number of steps in trajectories\n",
      "    \n",
      "    gridsteps: number of steps in the x-y grid\n",
      "    \n",
      "    parameters: additional keyword arguments for 'f'\n",
      "    \n",
      "    axes: the matplot axes in which to draw the plot. If not provided\n",
      "          use the current axes.\n",
      "    \n",
      "    Return Value\n",
      "    ------\n",
      "    A list the first element of which is the matplotlib Quiver object\n",
      "    representing the arrows of the direction field and the rest are the \n",
      "    Lines2D objects representing the trajectories.\n",
      "\n"
     ]
    }
   ],
   "source": [
    "help(plotdf)"
   ]
  },
  {
   "cell_type": "markdown",
   "metadata": {},
   "source": [
    "We can see that in maxima there is more options. In python there is no versus_t and sliders option, so it can't be interactive."
   ]
  },
  {
   "cell_type": "markdown",
   "metadata": {},
   "source": [
    "> ### <left><img src='https://image.flaticon.com/icons/svg/717/717954.svg' width=\"30px\"></left> Ex.1\n",
    "> #### In maxima code like this:\n",
    "\n",
    "> <code> (%i1) plotdf([w,-g*sin(a)/l - b*w/m/l], [a,w],\n",
    "        [parameters,\"g=9.8,l=0.5,m=0.3,b=0.05\"],\n",
    "        [trajectory_at,1.05,-9],[tstep,0.01],\n",
    "        [a,-10,2], [w,-14,14], [direction,forward],\n",
    "        [nsteps,300], [sliders,\"m=0.1:1\"], [versus_t,1]) </code>\n",
    "        \n",
    "> #### Will produce plot like below. In python we can't create interactive plot and the second window with plot of an integral curve (versus_t option).\n",
    "\n",
    "<img src='http://maxima.sourceforge.net/docs/manual/figures/plotdf5.gif' width=\"250\" />"
   ]
  },
  {
   "cell_type": "code",
   "execution_count": 3,
   "metadata": {},
   "outputs": [
    {
     "name": "stdout",
     "output_type": "stream",
     "text": [
      "Using matplotlib backend: Qt5Agg\n"
     ]
    }
   ],
   "source": [
    "# %matplotlib auto\n",
    "# changing to auto to enable window to pop, can be necessary to run twice to work. Line below does not work in Binder but can be useful when downloaded\n"
   ]
  },
  {
   "cell_type": "code",
   "execution_count": null,
   "metadata": {},
   "outputs": [],
   "source": [
    "# First define function and return array of x,y (x[0]=x, x[1]=y)\n",
    "# So instead of w and a like in maxima we have x[0] and x[1]\n",
    "def f(x,g=1,l=1,m=1,b=1):\n",
    "    return np.array([x[1],-g*sin(x[0])/l-b*x[1]/m/l])\n",
    "\n",
    "plotdf(f, # Function giving the rhs of the diff. eq. system\n",
    "         np.array([-10,2]), # [xmin,xmax]\n",
    "         np.array([-14,14]),# [ymin,ymax]\n",
    "         [(1.05,-9)], # list of initial values for trajectories (optional)\n",
    "         parameters={\"g\":9.8,\"l\":0.5,\"m\":0.3,\"b\":0.05}, # Additional parameters for `f` (optional)\n",
    "         tdir = 'forward', # direction (optional)\n",
    "         nsteps = 300,\n",
    "         tmax =2.5) # tmax (tstep) is defined a little bit different than in maxima, so we have to fit  (optional)"
   ]
  },
  {
   "cell_type": "markdown",
   "metadata": {},
   "source": [
    "> ### <left><img src='https://image.flaticon.com/icons/svg/717/717954.svg' width=\"30px\"></left> Ex.2\n",
    "> #### The following example shows the direction field of a harmonic oscillator, defined by the two equations dz/dt = v and dv/dt = -k*z/m, and the integral curve through (z,v) = (6,0), with a slider that will allow you to change the value of m interactively (k is fixed at 2):\n",
    "\n",
    "> <code> (%i1) plotdf([v,-k*z/m], [z,v], [parameters,\"m=2,k=2\"],\n",
    "           [sliders,\"m=1:5\"], [trajectory_at,6,0])$ </code>\n",
    "\n",
    "<img src='http://maxima.sourceforge.net/docs/manual/figures/plotdf3.gif' width=\"250\" />"
   ]
  },
  {
   "cell_type": "code",
   "execution_count": null,
   "metadata": {},
   "outputs": [],
   "source": [
    "def f_harmonic_oscillator(x,m=2,k=2):\n",
    "    return np.array([x[1],-k*x[0]/m])"
   ]
  },
  {
   "cell_type": "code",
   "execution_count": null,
   "metadata": {},
   "outputs": [],
   "source": [
    "plotdf(f_harmonic_oscillator, # Function giving the rhs of the diff. eq. system\n",
    "         np.array([-10, 10]), # [xmin,xmax]\n",
    "         np.array([-10,10]),# [ymin,ymax]\n",
    "         [(6,0)], # list of initial values for trajectories (optional)\n",
    "         parameters={\"m\":2, \"k\":2})"
   ]
  },
  {
   "cell_type": "markdown",
   "metadata": {},
   "source": [
    "> ### <left><img src='https://image.flaticon.com/icons/svg/717/717954.svg' width=\"30px\"></left> Ex.3\n",
    "> ### Plot the Predator-Victim model (Lotka-Volterra) from Dr Kopczewski slides on Applied Microeconomics, describing the system of differntial equations describing the state of population of predators and victims.\n",
    "> <code> kill (all); plotdf(['((a - b*F)*R) ,'((-d + c*R)*F)],[R,F],[R,0,5], [F,0,5],[parameters,\"a=1,b=1,c=1,d=1\"],\n",
    "[sliders,\"a=0:1,b=0:1,c=0:1,d=0:1\"],[tstep,1],[nsteps,300], [direction, forward], [trajectory_at,2,2])\n",
    ";eq1: '(a - b*F)*R  =0;eq2: '(-d + c*R)*F =0;solve([eq1,eq2],[R,F]); </code>\n",
    "\n",
    "    \n",
    "$$ x’(t) = (a – b * y(t)) * x(t) $$\n",
    "$$ y’(t) = (c * x(t) – d) * y(t) $$\n",
    "\n",
    "![alt text](image4.jpg \"Title\")"
   ]
  },
  {
   "cell_type": "code",
   "execution_count": null,
   "metadata": {},
   "outputs": [],
   "source": [
    "def f_2(x,a=1,b=1,c=1,d=1):\n",
    "    return np.array([(a-b*x[1])*x[0],(-d+c*x[0])*x[1]])"
   ]
  },
  {
   "cell_type": "code",
   "execution_count": null,
   "metadata": {},
   "outputs": [],
   "source": [
    "plotdf(f_2, # Function giving the rhs of the diff. eq. system\n",
    "         np.array([0,5]), # [xmin,xmax]\n",
    "         np.array([0,5]),# [ymin,ymax]\n",
    "         [(2,2)], # list of initial values for trajectories (optional))\n",
    "         parameters={\"a\":0.88,\"b\":0.54,\"c\":1,\"d\":1},\n",
    "         nsteps = 300,\n",
    "         tdir = 'forward',\n",
    "         tmax = 8)"
   ]
  }
 ],
 "metadata": {
  "kernelspec": {
   "display_name": "Python 3",
   "language": "python",
   "name": "python3"
  },
  "language_info": {
   "codemirror_mode": {
    "name": "ipython",
    "version": 3
   },
   "file_extension": ".py",
   "mimetype": "text/x-python",
   "name": "python",
   "nbconvert_exporter": "python",
   "pygments_lexer": "ipython3",
   "version": "3.6.4"
  }
 },
 "nbformat": 4,
 "nbformat_minor": 2
}
