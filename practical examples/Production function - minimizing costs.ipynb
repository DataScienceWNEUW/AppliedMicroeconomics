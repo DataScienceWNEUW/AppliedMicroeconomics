{
 "cells": [
  {
   "cell_type": "markdown",
   "metadata": {},
   "source": [
    "# Cobb Douglass production function\n",
    "For production function $Y(K,L) = K^{\\alpha} L^ {1-\\alpha} $\n",
    "\n",
    "where $\\alpha = \\dfrac{1}{2} $, minimize costs of producer."
   ]
  },
  {
   "cell_type": "code",
   "execution_count": 1,
   "metadata": {},
   "outputs": [],
   "source": [
    "from sympy import *\n",
    "from IPython.core.interactiveshell import InteractiveShell #print all elements, not only last one\n",
    "InteractiveShell.ast_node_interactivity = \"all\"\n",
    "init_printing(use_unicode=True)\n",
    "%matplotlib inline"
   ]
  },
  {
   "cell_type": "markdown",
   "metadata": {},
   "source": [
    "#### DEFINE PRODUCTION FUNCTION"
   ]
  },
  {
   "cell_type": "code",
   "execution_count": 2,
   "metadata": {},
   "outputs": [],
   "source": [
    "k,l, alpha = symbols('K, L, alpha')\n",
    "w, r = symbols(\"w, r\")\n",
    "\n",
    "def Y(alpha, k=k, l=l):\n",
    "    return k**alpha*l**(1-alpha)"
   ]
  },
  {
   "cell_type": "markdown",
   "metadata": {},
   "source": [
    "### COST MINIMIZATION\n"
   ]
  },
  {
   "cell_type": "code",
   "execution_count": 3,
   "metadata": {},
   "outputs": [],
   "source": [
    "alpha=1/2"
   ]
  },
  {
   "cell_type": "markdown",
   "metadata": {},
   "source": [
    "#### MARGINAL PRODUCTIVITY OF CAPITAL"
   ]
  },
  {
   "cell_type": "code",
   "execution_count": 4,
   "metadata": {},
   "outputs": [],
   "source": [
    "mpk = Y(alpha, k,l).diff(k)"
   ]
  },
  {
   "cell_type": "markdown",
   "metadata": {},
   "source": [
    "#### MARGINAL PRODUCTIVITY OF LABOUR"
   ]
  },
  {
   "cell_type": "code",
   "execution_count": 5,
   "metadata": {},
   "outputs": [],
   "source": [
    "mpl = Y(alpha, k,l).diff(l)"
   ]
  },
  {
   "cell_type": "markdown",
   "metadata": {},
   "source": [
    "#### CONDITION FOR COST MINIMIZATION"
   ]
  },
  {
   "cell_type": "code",
   "execution_count": 6,
   "metadata": {},
   "outputs": [
    {
     "data": {
      "image/png": "[encoded data removed]",
      "text/latex": [
       "$$\\frac{1.0 L^{1.0}}{K^{1.0}} = \\frac{r}{w}$$"
      ],
      "text/plain": [
       "     -1.0  1.0   r\n",
       "1.0⋅K    ⋅L    = ─\n",
       "                 w"
      ]
     },
     "execution_count": 6,
     "metadata": {},
     "output_type": "execute_result"
    }
   ],
   "source": [
    "cm_cond = Eq(mpk/mpl,r/w)\n",
    "cm_cond"
   ]
  },
  {
   "cell_type": "code",
   "execution_count": 7,
   "metadata": {},
   "outputs": [],
   "source": [
    "# k(r,w,l) - from cost minimization condition\n",
    "k_cm = solve(cm_cond,k)[0]"
   ]
  },
  {
   "cell_type": "code",
   "execution_count": 8,
   "metadata": {},
   "outputs": [],
   "source": [
    "# q is production level\n",
    "q = symbols(\"q\")"
   ]
  },
  {
   "cell_type": "code",
   "execution_count": 9,
   "metadata": {},
   "outputs": [],
   "source": [
    "# l(q,r,w) from Y(k_cm,l)=q\n",
    "Y_cm = Y(alpha,k_cm,l)\n",
    "l_star = solve(Y_cm-q,l)[0]\n",
    "k_star = k_cm.subs(l,l_star)"
   ]
  },
  {
   "cell_type": "markdown",
   "metadata": {},
   "source": [
    "#### VALUES OF L AND K THAT MINIMIZE COST"
   ]
  },
  {
   "cell_type": "code",
   "execution_count": 10,
   "metadata": {},
   "outputs": [
    {
     "data": {
      "image/png": "[encoded data removed]",
      "text/latex": [
       "$$q \\sqrt{\\frac{r}{w}}$$"
      ],
      "text/plain": [
       "      ___\n",
       "     ╱ r \n",
       "q⋅  ╱  ─ \n",
       "  ╲╱   w "
      ]
     },
     "execution_count": 10,
     "metadata": {},
     "output_type": "execute_result"
    },
    {
     "data": {
      "image/png": "[encoded data removed]",
      "text/latex": [
       "$$\\frac{q w}{r} \\sqrt{\\frac{r}{w}}$$"
      ],
      "text/plain": [
       "        ___\n",
       "       ╱ r \n",
       "q⋅w⋅  ╱  ─ \n",
       "    ╲╱   w \n",
       "───────────\n",
       "     r     "
      ]
     },
     "execution_count": 10,
     "metadata": {},
     "output_type": "execute_result"
    }
   ],
   "source": [
    "l_star\n",
    "k_star"
   ]
  },
  {
   "cell_type": "markdown",
   "metadata": {},
   "source": [
    "### GRAPHICAL SOLUTION\n",
    "for q=50, r=5, w=20"
   ]
  },
  {
   "cell_type": "code",
   "execution_count": 18,
   "metadata": {},
   "outputs": [],
   "source": [
    "q0=50\n",
    "r0=5\n",
    "w0=20"
   ]
  },
  {
   "cell_type": "code",
   "execution_count": 19,
   "metadata": {},
   "outputs": [],
   "source": [
    "production = solve(Y(alpha)-q,k)[0]\n",
    "cost = solve(r*k + w*l,k)[0]"
   ]
  },
  {
   "cell_type": "code",
   "execution_count": 20,
   "metadata": {},
   "outputs": [],
   "source": [
    "production0 = production.subs(q,q0)\n",
    "cost0 = cost.subs([(r,r0),(w,w0)])"
   ]
  },
  {
   "cell_type": "code",
   "execution_count": 21,
   "metadata": {},
   "outputs": [],
   "source": [
    "costwhereKis0 = (k_star + 4*l_star).subs([(q,q0),(r,r0),(w,w0)])"
   ]
  },
  {
   "cell_type": "code",
   "execution_count": 22,
   "metadata": {},
   "outputs": [],
   "source": [
    "%%capture\n",
    "p1 = plot(production0,\n",
    "     (l,0,200), ylim=(0,200), ylabel='Capital', xlabel='Labour')\n",
    "p2 = plot(cost0+costwhereKis0,\n",
    "     (l,0,200), ylim=(0,200), line_color='red')\n",
    "p1.extend(p2)"
   ]
  },
  {
   "cell_type": "code",
   "execution_count": 23,
   "metadata": {},
   "outputs": [
    {
     "data": {
      "image/png": "[encoded data removed]",
      "text/plain": [
       "<Figure size 432x288 with 1 Axes>"
      ]
     },
     "metadata": {
      "needs_background": "light"
     },
     "output_type": "display_data"
    }
   ],
   "source": [
    "p1.show()"
   ]
  }
 ],
 "metadata": {
  "kernelspec": {
   "display_name": "Python 3",
   "language": "python",
   "name": "python3"
  },
  "language_info": {
   "codemirror_mode": {
    "name": "ipython",
    "version": 3
   },
   "file_extension": ".py",
   "mimetype": "text/x-python",
   "name": "python",
   "nbconvert_exporter": "python",
   "pygments_lexer": "ipython3",
   "version": "3.7.0"
  }
 },
 "nbformat": 4,
 "nbformat_minor": 2
}
