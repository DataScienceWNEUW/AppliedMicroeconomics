{
 "cells": [
  {
   "cell_type": "markdown",
   "metadata": {},
   "source": [
    "# Perfectly competitive market\n",
    "The supply is described by $ p_s = 25 + 1.5q $ and the demand is $ p_d = 200 - 2q $. Plot the plots, solution for perfect competition without, with ad valorem and per unit tax. Calculate consumer surplus, producer surplus and deadweight loss for all three cases."
   ]
  },
  {
   "cell_type": "code",
   "execution_count": 1,
   "metadata": {},
   "outputs": [],
   "source": [
    "from sympy import *\n",
    "from IPython.core.interactiveshell import InteractiveShell #print all elements, not only last one\n",
    "InteractiveShell.ast_node_interactivity = \"all\"\n",
    "init_printing(use_unicode=True)"
   ]
  },
  {
   "cell_type": "code",
   "execution_count": 2,
   "metadata": {},
   "outputs": [],
   "source": [
    "q_d, q_s, q = symbols(\"q_d, q_s, q\")"
   ]
  },
  {
   "cell_type": "code",
   "execution_count": 3,
   "metadata": {},
   "outputs": [],
   "source": [
    "#inverse demand function\n",
    "def p_d_func(q_d):\n",
    "    return 200 - 2*q_d\n",
    "\n",
    "#inverse supply function\n",
    "def p_s_func(q_s):\n",
    "    return 25 + 1.5*q_s"
   ]
  },
  {
   "cell_type": "markdown",
   "metadata": {},
   "source": [
    "## PLOT"
   ]
  },
  {
   "cell_type": "code",
   "execution_count": 4,
   "metadata": {},
   "outputs": [],
   "source": [
    "%%capture\n",
    "demand_plot = plot(p_d_func(q), (q, 0, 120), ylim=(0, 225), line_color='tomato', ylabel='p')\n",
    "supply_plot = plot(p_s_func(q), (q, 0, 120), ylim=(0, 225), line_color='cornflowerblue')\n",
    "\n",
    "demand_plot.extend(supply_plot)"
   ]
  },
  {
   "cell_type": "code",
   "execution_count": 5,
   "metadata": {},
   "outputs": [
    {
     "data": {
      "image/png": "[encoded data removed]",
      "text/plain": [
       "<Figure size 432x288 with 1 Axes>"
      ]
     },
     "metadata": {
      "needs_background": "light"
     },
     "output_type": "display_data"
    }
   ],
   "source": [
    "demand_plot.show()"
   ]
  },
  {
   "cell_type": "markdown",
   "metadata": {},
   "source": [
    "#### NO TAX\n",
    "Where do demand and supply cross?"
   ]
  },
  {
   "cell_type": "code",
   "execution_count": 6,
   "metadata": {},
   "outputs": [],
   "source": [
    "q_star = solve(p_d_func(q)-p_s_func(q),q)[0]\n",
    "p_star = p_d_func(q_star)"
   ]
  },
  {
   "cell_type": "code",
   "execution_count": 7,
   "metadata": {},
   "outputs": [
    {
     "data": {
      "image/png": "[encoded data removed]",
      "text/latex": [
       "$$\\left ( 50.0, \\quad 100.0\\right )$$"
      ],
      "text/plain": [
       "(50.0, 100.0)"
      ]
     },
     "execution_count": 7,
     "metadata": {},
     "output_type": "execute_result"
    }
   ],
   "source": [
    "q_star, p_star"
   ]
  },
  {
   "cell_type": "markdown",
   "metadata": {},
   "source": [
    "#### AD VALOREM TAX"
   ]
  },
  {
   "cell_type": "code",
   "execution_count": 8,
   "metadata": {},
   "outputs": [],
   "source": [
    "t = symbols(\"t\") # here is is enough to set the tax to a number and calculate numbers instead of functions of t\n",
    "p_d, p_s = symbols(\"p_d, p_s\")"
   ]
  },
  {
   "cell_type": "code",
   "execution_count": 9,
   "metadata": {},
   "outputs": [],
   "source": [
    "# demand function\n",
    "def q_d_func(p_d):\n",
    "    return solve(p_d_func(q_d)-p_d, q_d)[0]\n",
    "\n",
    "# supply function\n",
    "def q_s_func(p_s):\n",
    "    return solve(p_s_func(q_s)-p_s, q_s)[0]"
   ]
  },
  {
   "cell_type": "code",
   "execution_count": 10,
   "metadata": {},
   "outputs": [],
   "source": [
    "# relation between demand price and supply price\n",
    "price_eq_advalorem = p_d - (1+t)*p_s\n",
    "\n",
    "# equality between quantity of demand and supply\n",
    "quantity_eq = q_d_func(p_d)-q_s_func(p_s)"
   ]
  },
  {
   "cell_type": "code",
   "execution_count": 11,
   "metadata": {},
   "outputs": [
    {
     "data": {
      "image/png": "[encoded data removed]",
      "text/latex": [
       "$$p_{d} - p_{s} \\left(t + 1\\right)$$"
      ],
      "text/plain": [
       "p_d - pₛ⋅(t + 1)"
      ]
     },
     "execution_count": 11,
     "metadata": {},
     "output_type": "execute_result"
    },
    {
     "data": {
      "image/png": "[encoded data removed]",
      "text/latex": [
       "$$- \\frac{p_{d}}{2} - 0.666666666666667 p_{s} + 116.666666666667$$"
      ],
      "text/plain": [
       "  p_d                                          \n",
       "- ─── - 0.666666666666667⋅pₛ + 116.666666666667\n",
       "   2                                           "
      ]
     },
     "execution_count": 11,
     "metadata": {},
     "output_type": "execute_result"
    }
   ],
   "source": [
    "price_eq_advalorem\n",
    "quantity_eq"
   ]
  },
  {
   "cell_type": "code",
   "execution_count": 12,
   "metadata": {},
   "outputs": [],
   "source": [
    "p_tax = solve((price_eq_advalorem, quantity_eq),(p_s, p_d))\n",
    "p_d_tax_av = p_tax[p_d]\n",
    "p_s_tax_av = p_tax[p_s]\n",
    "q_tax_av = q_d_func(p_d_tax_av)"
   ]
  },
  {
   "cell_type": "code",
   "execution_count": 13,
   "metadata": {},
   "outputs": [
    {
     "data": {
      "text/plain": [
       "'demand price with ad valorem tax: '"
      ]
     },
     "execution_count": 13,
     "metadata": {},
     "output_type": "execute_result"
    },
    {
     "data": {
      "image/png": "[encoded data removed]",
      "text/latex": [
       "$$\\frac{700.0 \\left(t + 1.0\\right)}{3.0 t + 7.0}$$"
      ],
      "text/plain": [
       "700.0⋅(t + 1.0)\n",
       "───────────────\n",
       "  3.0⋅t + 7.0  "
      ]
     },
     "execution_count": 13,
     "metadata": {},
     "output_type": "execute_result"
    },
    {
     "data": {
      "text/plain": [
       "'supply price with ad valorem tax: '"
      ]
     },
     "execution_count": 13,
     "metadata": {},
     "output_type": "execute_result"
    },
    {
     "data": {
      "image/png": "[encoded data removed]",
      "text/latex": [
       "$$\\frac{700.0}{3.0 t + 7.0}$$"
      ],
      "text/plain": [
       "   700.0   \n",
       "───────────\n",
       "3.0⋅t + 7.0"
      ]
     },
     "execution_count": 13,
     "metadata": {},
     "output_type": "execute_result"
    },
    {
     "data": {
      "text/plain": [
       "'quantity'"
      ]
     },
     "execution_count": 13,
     "metadata": {},
     "output_type": "execute_result"
    },
    {
     "data": {
      "image/png": "[encoded data removed]",
      "text/latex": [
       "$$\\frac{50.0 \\left(- t + 7.0\\right)}{3.0 t + 7.0}$$"
      ],
      "text/plain": [
       "50.0⋅(-t + 7.0)\n",
       "───────────────\n",
       "  3.0⋅t + 7.0  "
      ]
     },
     "execution_count": 13,
     "metadata": {},
     "output_type": "execute_result"
    }
   ],
   "source": [
    "'demand price with ad valorem tax: '\n",
    "p_d_tax_av\n",
    "'supply price with ad valorem tax: '\n",
    "p_s_tax_av\n",
    "'quantity'\n",
    "q_tax_av"
   ]
  },
  {
   "cell_type": "markdown",
   "metadata": {},
   "source": [
    "#### PER UNIT TAX"
   ]
  },
  {
   "cell_type": "code",
   "execution_count": 14,
   "metadata": {},
   "outputs": [],
   "source": [
    "price_eq_perunit = - p_d + p_s + t\n",
    "quantity_eq = q_d_func(p_d)-q_s_func(p_s)"
   ]
  },
  {
   "cell_type": "code",
   "execution_count": 15,
   "metadata": {},
   "outputs": [],
   "source": [
    "p_tax = solve((price_eq_perunit, quantity_eq),(p_s, p_d))\n",
    "p_d_tax_pu = p_tax[p_d]\n",
    "p_s_tax_pu = p_tax[p_s]\n",
    "q_tax_pu = q_d_func(p_d_tax_pu)"
   ]
  },
  {
   "cell_type": "code",
   "execution_count": 16,
   "metadata": {},
   "outputs": [
    {
     "data": {
      "text/plain": [
       "'demand price with per unit tax: '"
      ]
     },
     "execution_count": 16,
     "metadata": {},
     "output_type": "execute_result"
    },
    {
     "data": {
      "image/png": "[encoded data removed]",
      "text/latex": [
       "$$0.571428571428571 t + 100.0$$"
      ],
      "text/plain": [
       "0.571428571428571⋅t + 100.0"
      ]
     },
     "execution_count": 16,
     "metadata": {},
     "output_type": "execute_result"
    },
    {
     "data": {
      "text/plain": [
       "'supply price with per unit tax: '"
      ]
     },
     "execution_count": 16,
     "metadata": {},
     "output_type": "execute_result"
    },
    {
     "data": {
      "image/png": "[encoded data removed]",
      "text/latex": [
       "$$- 0.428571428571429 t + 100.0$$"
      ],
      "text/plain": [
       "-0.428571428571429⋅t + 100.0"
      ]
     },
     "execution_count": 16,
     "metadata": {},
     "output_type": "execute_result"
    },
    {
     "data": {
      "text/plain": [
       "'quantity'"
      ]
     },
     "execution_count": 16,
     "metadata": {},
     "output_type": "execute_result"
    },
    {
     "data": {
      "image/png": "[encoded data removed]",
      "text/latex": [
       "$$- 0.285714285714286 t + 50.0$$"
      ],
      "text/plain": [
       "-0.285714285714286⋅t + 50.0"
      ]
     },
     "execution_count": 16,
     "metadata": {},
     "output_type": "execute_result"
    }
   ],
   "source": [
    "'demand price with per unit tax: '\n",
    "p_d_tax_pu\n",
    "'supply price with per unit tax: '\n",
    "p_s_tax_pu\n",
    "'quantity'\n",
    "q_tax_pu"
   ]
  },
  {
   "cell_type": "markdown",
   "metadata": {},
   "source": [
    "##  CONSUMER SURPLUS, PRODUCER SURPLUS, DEADWEIGHT LOSS"
   ]
  },
  {
   "cell_type": "code",
   "execution_count": 17,
   "metadata": {},
   "outputs": [],
   "source": [
    "q, q_x = symbols(\"q, q_x\")"
   ]
  },
  {
   "cell_type": "markdown",
   "metadata": {},
   "source": [
    "<img src='https://encrypted-tbn0.gstatic.com/images?q=tbn:ANd9GcT4cuzAtpXewEiDBNO-WULx0Tqc5z3KtPPQDZuo-Xu9lOIvefasyg'>"
   ]
  },
  {
   "cell_type": "code",
   "execution_count": 18,
   "metadata": {},
   "outputs": [],
   "source": [
    "# Consumer surplus - area below demand function and above consumer price\n",
    "def CS_func(q):\n",
    "    return integrate(p_d_func(q_x), (q_x, 0, q)) - p_d_func(q)*q\n",
    "\n",
    "# Producer surplus - area above supply function and below supply price\n",
    "def PS_func(q):\n",
    "    return p_s_func(q)*q - integrate(p_s_func(q_x),(q_x,0,q))\n",
    "\n",
    "# Deadweight loss - area between demand and supply, with prices higher than supply and lower than demand\n",
    "# also sum of differences between consumer surplus and producer surplus compared to perfect competition solution\n",
    "\n",
    "def DL_func(q):\n",
    "    return integrate(p_d_func(q_x), (q_x, q, q_star)) - integrate(p_s_func(q_x),(q_x,q,q_star))\n",
    "# the same as:\n",
    "#     return CS_func(q_star) - CS_func(q) + PS_func(q_star) - PS_func(q)"
   ]
  },
  {
   "cell_type": "markdown",
   "metadata": {},
   "source": [
    "#### NO TAX"
   ]
  },
  {
   "cell_type": "code",
   "execution_count": 19,
   "metadata": {},
   "outputs": [
    {
     "data": {
      "image/png": "[encoded data removed]",
      "text/latex": [
       "$$2500.0$$"
      ],
      "text/plain": [
       "2500.00000000000"
      ]
     },
     "execution_count": 19,
     "metadata": {},
     "output_type": "execute_result"
    },
    {
     "data": {
      "image/png": "[encoded data removed]",
      "text/latex": [
       "$$1875.0$$"
      ],
      "text/plain": [
       "1875.00000000000"
      ]
     },
     "execution_count": 19,
     "metadata": {},
     "output_type": "execute_result"
    },
    {
     "data": {
      "image/png": "[encoded data removed]",
      "text/latex": [
       "$$0$$"
      ],
      "text/plain": [
       "0"
      ]
     },
     "execution_count": 19,
     "metadata": {},
     "output_type": "execute_result"
    }
   ],
   "source": [
    "CS = CS_func(q_star)\n",
    "PS = PS_func(q_star)\n",
    "# deadweight loss for perfect competition with no tax is always 0\n",
    "DL = DL_func(q_star)\n",
    "CS\n",
    "PS\n",
    "DL"
   ]
  },
  {
   "cell_type": "markdown",
   "metadata": {},
   "source": [
    "#### AD VALOREM TAX"
   ]
  },
  {
   "cell_type": "code",
   "execution_count": 20,
   "metadata": {},
   "outputs": [
    {
     "data": {
      "image/png": "[encoded data removed]",
      "text/latex": [
       "$$- \\frac{2500.0 \\left(- t + 7.0\\right)^{2}}{\\left(3.0 t + 7.0\\right)^{2}} - \\frac{50.0}{3.0 t + 7.0} \\left(- t + 7.0\\right) \\left(- \\frac{100.0 \\left(- t + 7.0\\right)}{3.0 t + 7.0} + 200\\right) + \\frac{10000.0 \\left(- t + 7.0\\right)}{3.0 t + 7.0}$$"
      ],
      "text/plain": [
       "                                       ⎛  100.0⋅(-t + 7.0)      ⎞             \n",
       "                   2   50.0⋅(-t + 7.0)⋅⎜- ──────────────── + 200⎟             \n",
       "  2500.0⋅(-t + 7.0)                    ⎝    3.0⋅t + 7.0         ⎠   10000.0⋅(-\n",
       "- ────────────────── - ────────────────────────────────────────── + ──────────\n",
       "                 2                    3.0⋅t + 7.0                      3.0⋅t +\n",
       "    (3.0⋅t + 7.0)                                                             \n",
       "\n",
       "        \n",
       "        \n",
       "t + 7.0)\n",
       "────────\n",
       " 7.0    \n",
       "        "
      ]
     },
     "execution_count": 20,
     "metadata": {},
     "output_type": "execute_result"
    },
    {
     "data": {
      "image/png": "[encoded data removed]",
      "text/latex": [
       "$$- \\frac{1875.0 \\left(- t + 7.0\\right)^{2}}{\\left(3.0 t + 7.0\\right)^{2}} + \\frac{50.0}{3.0 t + 7.0} \\left(- t + 7.0\\right) \\left(\\frac{75.0 \\left(- t + 7.0\\right)}{3.0 t + 7.0} + 25\\right) - \\frac{1250.0 \\left(- t + 7.0\\right)}{3.0 t + 7.0}$$"
      ],
      "text/plain": [
       "                                       ⎛75.0⋅(-t + 7.0)     ⎞                 \n",
       "                   2   50.0⋅(-t + 7.0)⋅⎜─────────────── + 25⎟                 \n",
       "  1875.0⋅(-t + 7.0)                    ⎝  3.0⋅t + 7.0       ⎠   1250.0⋅(-t + 7\n",
       "- ────────────────── + ────────────────────────────────────── - ──────────────\n",
       "                 2                  3.0⋅t + 7.0                    3.0⋅t + 7.0\n",
       "    (3.0⋅t + 7.0)                                                             \n",
       "\n",
       "   \n",
       "   \n",
       ".0)\n",
       "───\n",
       "   \n",
       "   "
      ]
     },
     "execution_count": 20,
     "metadata": {},
     "output_type": "execute_result"
    },
    {
     "data": {
      "image/png": "[encoded data removed]",
      "text/latex": [
       "$$\\frac{4375.0 \\left(- t + 7.0\\right)^{2}}{\\left(3.0 t + 7.0\\right)^{2}} - \\frac{8750.0 \\left(- t + 7.0\\right)}{3.0 t + 7.0} + 4375.0$$"
      ],
      "text/plain": [
       "                 2                             \n",
       "4375.0⋅(-t + 7.0)    8750.0⋅(-t + 7.0)         \n",
       "────────────────── - ───────────────── + 4375.0\n",
       "               2        3.0⋅t + 7.0            \n",
       "  (3.0⋅t + 7.0)                                "
      ]
     },
     "execution_count": 20,
     "metadata": {},
     "output_type": "execute_result"
    }
   ],
   "source": [
    "CS = CS_func(q_tax_av)\n",
    "PS = PS_func(q_tax_av)\n",
    "DL = DL_func(q_tax_av)\n",
    "CS\n",
    "PS\n",
    "DL"
   ]
  },
  {
   "cell_type": "markdown",
   "metadata": {},
   "source": [
    "#### PER UNIT TAX"
   ]
  },
  {
   "cell_type": "code",
   "execution_count": 21,
   "metadata": {},
   "outputs": [
    {
     "data": {
      "image/png": "[encoded data removed]",
      "text/latex": [
       "$$- 57.1428571428571 t - \\left(- 0.285714285714286 t + 50.0\\right)^{2} - \\left(- 0.285714285714286 t + 50.0\\right) \\left(0.571428571428571 t + 100.0\\right) + 10000.0$$"
      ],
      "text/plain": [
       "                                                   2                          \n",
       "-57.1428571428571⋅t - (-0.285714285714286⋅t + 50.0)  - (-0.285714285714286⋅t +\n",
       "\n",
       "                                              \n",
       " 50.0)⋅(0.571428571428571⋅t + 100.0) + 10000.0"
      ]
     },
     "execution_count": 21,
     "metadata": {},
     "output_type": "execute_result"
    },
    {
     "data": {
      "image/png": "[encoded data removed]",
      "text/latex": [
       "$$7.14285714285714 t + \\left(- 0.428571428571429 t + 100.0\\right) \\left(- 0.285714285714286 t + 50.0\\right) - 0.75 \\left(- 0.285714285714286 t + 50.0\\right)^{2} - 1250.0$$"
      ],
      "text/plain": [
       "                                                                              \n",
       "7.14285714285714⋅t + (-0.428571428571429⋅t + 100.0)⋅(-0.285714285714286⋅t + 50\n",
       "\n",
       "                                        2         \n",
       ".0) - 0.75⋅(-0.285714285714286⋅t + 50.0)  - 1250.0"
      ]
     },
     "execution_count": 21,
     "metadata": {},
     "output_type": "execute_result"
    },
    {
     "data": {
      "image/png": "[encoded data removed]",
      "text/latex": [
       "$$50.0 t + 1.75 \\left(- 0.285714285714286 t + 50.0\\right)^{2} - 4375.0$$"
      ],
      "text/plain": [
       "                                           2         \n",
       "50.0⋅t + 1.75⋅(-0.285714285714286⋅t + 50.0)  - 4375.0"
      ]
     },
     "execution_count": 21,
     "metadata": {},
     "output_type": "execute_result"
    }
   ],
   "source": [
    "CS = CS_func(q_tax_pu)\n",
    "PS = PS_func(q_tax_pu)\n",
    "DL = DL_func(q_tax_pu)\n",
    "CS\n",
    "PS\n",
    "DL"
   ]
  }
 ],
 "metadata": {
  "kernelspec": {
   "display_name": "Python 3",
   "language": "python",
   "name": "python3"
  },
  "language_info": {
   "codemirror_mode": {
    "name": "ipython",
    "version": 3
   },
   "file_extension": ".py",
   "mimetype": "text/x-python",
   "name": "python",
   "nbconvert_exporter": "python",
   "pygments_lexer": "ipython3",
   "version": "3.7.0"
  }
 },
 "nbformat": 4,
 "nbformat_minor": 2
}
