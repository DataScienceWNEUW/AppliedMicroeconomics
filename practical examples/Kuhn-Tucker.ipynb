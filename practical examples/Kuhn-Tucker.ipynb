{
 "cells": [
  {
   "cell_type": "markdown",
   "metadata": {},
   "source": [
    "# Examples of optimization using Kuhn-Tucker condition"
   ]
  },
  {
   "cell_type": "code",
   "execution_count": 1,
   "metadata": {},
   "outputs": [],
   "source": [
    "from sympy import *\n",
    "from IPython.core.interactiveshell import InteractiveShell #print all elements, not only last one\n",
    "InteractiveShell.ast_node_interactivity = \"all\"\n",
    "init_printing(use_unicode=True)"
   ]
  },
  {
   "cell_type": "markdown",
   "metadata": {},
   "source": [
    "In mathematical optimization, the Karush–Kuhn–Tucker (KKT) conditions, also known as the Kuhn–Tucker conditions, are first derivative tests (sometimes called first-order) necessary conditions for a solution in nonlinear programming to be optimal, provided that some regularity conditions are satisfied. [...] Often in mathematical economics the KKT approach is used in theoretical models in order to obtain qualitative results.\n",
    "\n",
    "_source_: https://en.wikipedia.org/wiki/Karush%E2%80%93Kuhn%E2%80%93Tucker_conditions"
   ]
  },
  {
   "cell_type": "markdown",
   "metadata": {},
   "source": [
    "> ### <left><img src='https://image.flaticon.com/icons/svg/717/717954.svg' width=\"30px\"> Ex. 1\n",
    "> ### Minimize the function $1/2*x_1^2-2*x_2$\n",
    "> ### where:\n",
    "> ### $x_1\\geq0$ and\n",
    "> ### $x_2\\geq0$ and\n",
    "> ### $x_1^2 + x_2^2 \\leq4$"
   ]
  },
  {
   "cell_type": "code",
   "execution_count": 2,
   "metadata": {},
   "outputs": [],
   "source": [
    "# Define variables\n",
    "f,x1,x2, w1, lambda_,lagrange = symbols('f x1 x2 w1 lambda lagrange')"
   ]
  },
  {
   "cell_type": "code",
   "execution_count": 3,
   "metadata": {},
   "outputs": [],
   "source": [
    "# Define function\n",
    "f = 1/2*x1**2-2*x2\n",
    "# Constraint\n",
    "w1 = x1**2 + x2**2 - 4\n",
    "# Lagrange\n",
    "lagrange = f - lambda_*w1"
   ]
  },
  {
   "cell_type": "code",
   "execution_count": 4,
   "metadata": {},
   "outputs": [
    {
     "data": {
      "image/png": "[encoded data removed]",
      "text/latex": [
       "$$- 2 \\lambda x_{1} + 1.0 x_{1} \\geq 0$$"
      ],
      "text/plain": [
       "-2⋅λ⋅x₁ + 1.0⋅x₁ ≥ 0"
      ]
     },
     "execution_count": 4,
     "metadata": {},
     "output_type": "execute_result"
    },
    {
     "data": {
      "image/png": "[encoded data removed]",
      "text/latex": [
       "$$- 2 \\lambda x_{2} - 2 \\geq 0$$"
      ],
      "text/plain": [
       "-2⋅λ⋅x₂ - 2 ≥ 0"
      ]
     },
     "execution_count": 4,
     "metadata": {},
     "output_type": "execute_result"
    },
    {
     "data": {
      "image/png": "[encoded data removed]",
      "text/latex": [
       "$$- x_{1}^{2} - x_{2}^{2} + 4 \\geq 0$$"
      ],
      "text/plain": [
       "    2     2        \n",
       "- x₁  - x₂  + 4 ≥ 0"
      ]
     },
     "execution_count": 4,
     "metadata": {},
     "output_type": "execute_result"
    }
   ],
   "source": [
    "# inequality constraints\n",
    "og1 = diff(lagrange,x1)>=0\n",
    "og2 = diff(lagrange,x2)>=0\n",
    "og3 = diff(lagrange,lambda_)>=0\n",
    "og1\n",
    "og2\n",
    "og3"
   ]
  },
  {
   "cell_type": "code",
   "execution_count": 5,
   "metadata": {},
   "outputs": [
    {
     "data": {
      "image/png": "[encoded data removed]",
      "text/latex": [
       "$$x_{1} \\left(- 2 \\lambda x_{1} + 1.0 x_{1}\\right) = 0$$"
      ],
      "text/plain": [
       "x₁⋅(-2⋅λ⋅x₁ + 1.0⋅x₁) = 0"
      ]
     },
     "execution_count": 5,
     "metadata": {},
     "output_type": "execute_result"
    },
    {
     "data": {
      "image/png": "[encoded data removed]",
      "text/latex": [
       "$$x_{2} \\left(- 2 \\lambda x_{2} - 2\\right) = 0$$"
      ],
      "text/plain": [
       "x₂⋅(-2⋅λ⋅x₂ - 2) = 0"
      ]
     },
     "execution_count": 5,
     "metadata": {},
     "output_type": "execute_result"
    },
    {
     "data": {
      "image/png": "[encoded data removed]",
      "text/latex": [
       "$$\\lambda \\left(- x_{1}^{2} - x_{2}^{2} + 4\\right) = 0$$"
      ],
      "text/plain": [
       "  ⎛    2     2    ⎞    \n",
       "λ⋅⎝- x₁  - x₂  + 4⎠ = 0"
      ]
     },
     "execution_count": 5,
     "metadata": {},
     "output_type": "execute_result"
    }
   ],
   "source": [
    "# equality constraints\n",
    "eq1 = Eq(x1*lagrange.diff(x1))\n",
    "eq2 = Eq(x2*lagrange.diff(x2))\n",
    "eq3 = Eq(lambda_*lagrange.diff(lambda_))\n",
    "eq1\n",
    "eq2\n",
    "eq3"
   ]
  },
  {
   "cell_type": "code",
   "execution_count": 6,
   "metadata": {},
   "outputs": [
    {
     "data": {
      "image/png": "[encoded data removed]",
      "text/latex": [
       "$$\\left ( \\left [ \\lambda, \\quad x_{1}, \\quad x_{2}\\right ], \\quad \\left\\{\\left ( -0.5, \\quad 0.0, \\quad 2.0\\right ), \\left ( 0.0, \\quad 0.0, \\quad 0.0\\right ), \\left ( 0.5, \\quad -2.0, \\quad 0.0\\right ), \\left ( 0.5, \\quad 0.0, \\quad -2.0\\right ), \\left ( 0.5, \\quad 2.0, \\quad 0.0\\right )\\right\\}\\right )$$"
      ],
      "text/plain": [
       "([λ, x₁, x₂], set([(-0.5, 0.0, 2.0), (0.0, 0.0, 0.0), (0.5, -2.0, 0.0), (0.5, \n",
       "0.0, -2.0), (0.5, 2.0, 0.0)]))"
      ]
     },
     "execution_count": 6,
     "metadata": {},
     "output_type": "execute_result"
    }
   ],
   "source": [
    "# Solve system of equations (define equations and variables)\n",
    "results = solve([eq1,eq2,eq3],x1,x2,lambda_,set=True)\n",
    "results"
   ]
  },
  {
   "cell_type": "code",
   "execution_count": 7,
   "metadata": {},
   "outputs": [
    {
     "name": "stdout",
     "output_type": "stream",
     "text": [
      "lambda=-0.500000000000000, x1=0.0,x2=2.00000000000000\n",
      "f(x)= -4.00000000000000\n",
      "lambda=0.0, x1=0.0,x2=0.0\n",
      "f(x)= 0\n"
     ]
    }
   ],
   "source": [
    "# Print all the solutions under defined conditions\n",
    "for x in results[1]:\n",
    "    if ((x[1] >= 0) & (x[2] >= 0) & (1/2*x[1]**2-2*x[2]<=4) & (x[0]<=0)):\n",
    "        print('lambda={}, x1={},x2={}'.format(x[0],x[1],x[2]))\n",
    "        solution = f.subs([(x1,x[1]),(x2,x[2])])\n",
    "        print('f(x)=',solution)"
   ]
  },
  {
   "cell_type": "markdown",
   "metadata": {},
   "source": [
    "Optimal solution:\n",
    "$lambda=-0.5$ , $x_1=0.0$ , $x_2=2.0$, \n",
    "$f(x)= -4.0$"
   ]
  },
  {
   "cell_type": "markdown",
   "metadata": {},
   "source": [
    "<left><img src='https://image.flaticon.com/icons/svg/179/179386.svg' width=\"25px\"></left>\n",
    "#### We can also define our problem as a function, which we can re-use with other conditions."
   ]
  },
  {
   "cell_type": "code",
   "execution_count": 8,
   "metadata": {},
   "outputs": [],
   "source": [
    "#function to get optimal solution\n",
    "def kuhn_tucker(f,w1,lagrange):\n",
    "    # inequality constraints\n",
    "    og1 = diff(lagrange,x1)>=0\n",
    "    og2 = diff(lagrange,x2)>=0\n",
    "    og3 = diff(lagrange,lambda_)>=0\n",
    "    # equality constraints\n",
    "    eq1 = Eq(x1*lagrange.diff(x1))\n",
    "    eq2 = Eq(x2*lagrange.diff(x2))\n",
    "    eq3 = Eq(lambda_*lagrange.diff(lambda_))\n",
    "    results = solve([eq1,eq2,eq3],x1,x2,lambda_,set=True)\n",
    "    \n",
    "    for x in results[1]:\n",
    "        if ((x[1] >= 0) & (x[2] >= 0) & (1/2*x[1]**2-2*x[2]<=4) & (x[0]<=0)):\n",
    "            print('lambda={}, x1={},x2={}'.format(x[0],x[1],x[2]))\n",
    "            solution = f.subs([(x1,x[1]),(x2,x[2])])\n",
    "            print('f(x)=',solution)"
   ]
  },
  {
   "cell_type": "code",
   "execution_count": 9,
   "metadata": {},
   "outputs": [
    {
     "name": "stdout",
     "output_type": "stream",
     "text": [
      "lambda=-0.500000000000000, x1=0.0,x2=2.00000000000000\n",
      "f(x)= -4.00000000000000\n",
      "lambda=0.0, x1=0.0,x2=0.0\n",
      "f(x)= 0\n"
     ]
    }
   ],
   "source": [
    "f,x1,x2, w1, lambda_,lagrange = symbols('f x1 x2 w1 lambda lagrange')\n",
    "#specify equations\n",
    "f = 1/2*x1**2-2*x2\n",
    "w1 = x1**2 + x2**2 - 4\n",
    "lagrange = f - lambda_*w1\n",
    "kuhn_tucker(f,w1,lagrange)"
   ]
  },
  {
   "cell_type": "markdown",
   "metadata": {},
   "source": [
    "> ### <left><img src='https://image.flaticon.com/icons/svg/717/717954.svg' width=\"30px\"> Ex. 2\n",
    "> ### Maximize the function $(x1-1)^2+x_2^2$\n",
    "> ### where:\n",
    "> ### $x_1\\geq0$ and\n",
    "> ### $x_1+3*x_2\\leq6$ and\n",
    "> ### $4*x_1-3*x_2\\leq9$"
   ]
  },
  {
   "cell_type": "code",
   "execution_count": 10,
   "metadata": {},
   "outputs": [],
   "source": [
    "f,x1,x2, w1,w2, lambda_1,lambda_2,lagrange = symbols('f x1 x2 w1 w2 lambda_1 lambda_2 lagrange')\n",
    "# Define function\n",
    "f = (x1-1)**2+x2**2\n",
    "# Constraint\n",
    "w1 = x1+3*x2-6\n",
    "w2 = 4*x1-3*x2-9\n",
    "# Lagrange\n",
    "lagrange = -f - lambda_1*w1 - lambda_2*w2"
   ]
  },
  {
   "cell_type": "code",
   "execution_count": 11,
   "metadata": {},
   "outputs": [
    {
     "data": {
      "image/png": "[encoded data removed]",
      "text/latex": [
       "$$- \\lambda_{1} - 4 \\lambda_{2} - 2 x_{1} + 2 \\geq 0$$"
      ],
      "text/plain": [
       "-λ₁ - 4⋅λ₂ - 2⋅x₁ + 2 ≥ 0"
      ]
     },
     "execution_count": 11,
     "metadata": {},
     "output_type": "execute_result"
    },
    {
     "data": {
      "image/png": "[encoded data removed]",
      "text/latex": [
       "$$- x_{1} - 3 x_{2} + 6 \\geq 0$$"
      ],
      "text/plain": [
       "-x₁ - 3⋅x₂ + 6 ≥ 0"
      ]
     },
     "execution_count": 11,
     "metadata": {},
     "output_type": "execute_result"
    },
    {
     "data": {
      "image/png": "[encoded data removed]",
      "text/latex": [
       "$$- 4 x_{1} + 3 x_{2} + 9 \\geq 0$$"
      ],
      "text/plain": [
       "-4⋅x₁ + 3⋅x₂ + 9 ≥ 0"
      ]
     },
     "execution_count": 11,
     "metadata": {},
     "output_type": "execute_result"
    }
   ],
   "source": [
    "# inequality constaints\n",
    "og1 = diff(lagrange,x1)>=0\n",
    "og2 = diff(lagrange,lambda_1)>=0\n",
    "og3 = diff(lagrange,lambda_2)>=0\n",
    "og1\n",
    "og2\n",
    "og3"
   ]
  },
  {
   "cell_type": "code",
   "execution_count": 12,
   "metadata": {},
   "outputs": [
    {
     "data": {
      "image/png": "[encoded data removed]",
      "text/latex": [
       "$$- 3 \\lambda_{1} + 3 \\lambda_{2} - 2 x_{2}$$"
      ],
      "text/plain": [
       "-3⋅λ₁ + 3⋅λ₂ - 2⋅x₂"
      ]
     },
     "execution_count": 12,
     "metadata": {},
     "output_type": "execute_result"
    },
    {
     "data": {
      "image/png": "[encoded data removed]",
      "text/latex": [
       "$$x_{1} \\left(- \\lambda_{1} - 4 \\lambda_{2} - 2 x_{1} + 2\\right) = 0$$"
      ],
      "text/plain": [
       "x₁⋅(-λ₁ - 4⋅λ₂ - 2⋅x₁ + 2) = 0"
      ]
     },
     "execution_count": 12,
     "metadata": {},
     "output_type": "execute_result"
    },
    {
     "data": {
      "image/png": "[encoded data removed]",
      "text/latex": [
       "$$x_{2} \\left(- 3 \\lambda_{1} + 3 \\lambda_{2} - 2 x_{2}\\right) = 0$$"
      ],
      "text/plain": [
       "x₂⋅(-3⋅λ₁ + 3⋅λ₂ - 2⋅x₂) = 0"
      ]
     },
     "execution_count": 12,
     "metadata": {},
     "output_type": "execute_result"
    },
    {
     "data": {
      "image/png": "[encoded data removed]",
      "text/latex": [
       "$$\\lambda_{1} \\left(- x_{1} - 3 x_{2} + 6\\right) = 0$$"
      ],
      "text/plain": [
       "λ₁⋅(-x₁ - 3⋅x₂ + 6) = 0"
      ]
     },
     "execution_count": 12,
     "metadata": {},
     "output_type": "execute_result"
    },
    {
     "data": {
      "image/png": "[encoded data removed]",
      "text/latex": [
       "$$\\lambda_{2} \\left(- 4 x_{1} + 3 x_{2} + 9\\right) = 0$$"
      ],
      "text/plain": [
       "λ₂⋅(-4⋅x₁ + 3⋅x₂ + 9) = 0"
      ]
     },
     "execution_count": 12,
     "metadata": {},
     "output_type": "execute_result"
    }
   ],
   "source": [
    "# equality constraints\n",
    "eq1 = lagrange.diff(x2)\n",
    "eq2 = Eq(x1*lagrange.diff(x1))\n",
    "eq3 = Eq(x2*lagrange.diff(x2))\n",
    "eq4 = Eq(lambda_1*lagrange.diff(lambda_1))\n",
    "eq5 = Eq(lambda_2*lagrange.diff(lambda_2))\n",
    "eq1\n",
    "eq2\n",
    "eq3\n",
    "eq4\n",
    "eq5"
   ]
  },
  {
   "cell_type": "code",
   "execution_count": 13,
   "metadata": {},
   "outputs": [
    {
     "data": {
      "image/png": "[encoded data removed]",
      "text/latex": [
       "$$\\left ( \\left [ \\lambda_{1}, \\quad \\lambda_{2}, \\quad x_{1}, \\quad x_{2}\\right ], \\quad \\left\\{\\left ( - \\frac{4}{3}, \\quad - \\frac{2}{3}, \\quad 3, \\quad 1\\right ), \\left ( - \\frac{4}{3}, \\quad 0, \\quad 0, \\quad 2\\right ), \\left ( -1, \\quad 0, \\quad \\frac{3}{2}, \\quad \\frac{3}{2}\\right ), \\left ( 0, \\quad -2, \\quad 0, \\quad -3\\right ), \\left ( 0, \\quad - \\frac{2}{5}, \\quad \\frac{9}{5}, \\quad - \\frac{3}{5}\\right ), \\left ( 0, \\quad 0, \\quad 0, \\quad 0\\right ), \\left ( 0, \\quad 0, \\quad 1, \\quad 0\\right )\\right\\}\\right )$$"
      ],
      "text/plain": [
       "([λ₁, λ₂, x₁, x₂], set([(-4/3, -2/3, 3, 1), (-4/3, 0, 0, 2), (-1, 0, 3/2, 3/2)\n",
       ", (0, -2, 0, -3), (0, -2/5, 9/5, -3/5), (0, 0, 0, 0), (0, 0, 1, 0)]))"
      ]
     },
     "execution_count": 13,
     "metadata": {},
     "output_type": "execute_result"
    }
   ],
   "source": [
    "# Find all the solutions\n",
    "results = solve([eq1,eq2,eq3,eq4,eq5],x1,x2,lambda_1,lambda_2,set=True)\n",
    "solve([eq1,eq2,eq3,eq4,eq5],x1,x2,lambda_1,lambda_2,set=True)"
   ]
  },
  {
   "cell_type": "code",
   "execution_count": 14,
   "metadata": {},
   "outputs": [
    {
     "name": "stdout",
     "output_type": "stream",
     "text": [
      "lambda_1=0,lambda_2=-2, x1=0,x2=-3\n",
      "f(x)= 10\n",
      "lambda_1=-4/3,lambda_2=-2/3, x1=3,x2=1\n",
      "f(x)= 5\n",
      "lambda_1=-4/3,lambda_2=0, x1=0,x2=2\n",
      "f(x)= 5\n",
      "lambda_1=-1,lambda_2=0, x1=3/2,x2=3/2\n",
      "f(x)= 5/2\n",
      "lambda_1=0,lambda_2=0, x1=1,x2=0\n",
      "f(x)= 0\n",
      "lambda_1=0,lambda_2=-2/5, x1=9/5,x2=-3/5\n",
      "f(x)= 1\n",
      "lambda_1=0,lambda_2=0, x1=0,x2=0\n",
      "f(x)= 1\n"
     ]
    }
   ],
   "source": [
    "# Looking for best solution\n",
    "for x in results[1]:\n",
    "    if (x[0]<=0) & (x[1]<=0) & (x[2]>=0) & (og1.subs([(lambda_1,x[0]),(lambda_2,x[1]),(x1,x[2]),(x2,x[3])])) & (og2.subs([(lambda_1,x[0]),(lambda_2,x[1]),(x1,x[2]),(x2,x[3])])) & (og3.subs([(lambda_1,x[0]),(lambda_2,x[1]),(x1,x[2]),(x2,x[3])])):\n",
    "        print('lambda_1={},lambda_2={}, x1={},x2={}'.format(x[0],x[1],x[2],x[3]))\n",
    "        solution = f.subs([(x1,x[2]),(x2,x[3])])\n",
    "        print('f(x)=',solution)"
   ]
  },
  {
   "cell_type": "markdown",
   "metadata": {},
   "source": [
    "Optimal solution:\n",
    "$lambda_1=0,lambda_2=-2, x_1=0,x_2=-3$, \n",
    "$f(x)= 10$"
   ]
  },
  {
   "cell_type": "markdown",
   "metadata": {},
   "source": [
    "> ### <left><img src='https://image.flaticon.com/icons/svg/717/717954.svg' width=\"30px\"> Ex. 3\n",
    "> ### Minimize the function $5*x_1^2 - 8*x_1*x_2 + 7*x_2^2 - 12*x_1 - 4*x_2 + 81$\n",
    "> ### where:\n",
    "> ### $x_1\\geq0$ and\n",
    "> ### $x_2 \\geq 0$ and\n",
    "> ### $x_1+x_2=16$"
   ]
  },
  {
   "cell_type": "code",
   "execution_count": 15,
   "metadata": {},
   "outputs": [],
   "source": [
    "# Define function\n",
    "f =5*x1**2 - 8*x1*x2 + 7*x2**2 - 12*x1 - 4*x2 + 81\n",
    "# Constaints\n",
    "w1 = x1+x2-16\n",
    "# Lagrange\n",
    "lagrange = f-lambda_*w1"
   ]
  },
  {
   "cell_type": "code",
   "execution_count": 16,
   "metadata": {},
   "outputs": [
    {
     "data": {
      "image/png": "[encoded data removed]",
      "text/latex": [
       "$$- \\lambda + 10 x_{1} - 8 x_{2} - 12 \\geq 0$$"
      ],
      "text/plain": [
       "-λ + 10⋅x₁ - 8⋅x₂ - 12 ≥ 0"
      ]
     },
     "execution_count": 16,
     "metadata": {},
     "output_type": "execute_result"
    },
    {
     "data": {
      "image/png": "[encoded data removed]",
      "text/latex": [
       "$$- \\lambda - 8 x_{1} + 14 x_{2} - 4 \\geq 0$$"
      ],
      "text/plain": [
       "-λ - 8⋅x₁ + 14⋅x₂ - 4 ≥ 0"
      ]
     },
     "execution_count": 16,
     "metadata": {},
     "output_type": "execute_result"
    }
   ],
   "source": [
    "# inequality constaints\n",
    "og1 = diff(lagrange,x1)>=0\n",
    "og2 = diff(lagrange,x2)>=0\n",
    "og1\n",
    "og2"
   ]
  },
  {
   "cell_type": "code",
   "execution_count": 17,
   "metadata": {},
   "outputs": [
    {
     "data": {
      "image/png": "[encoded data removed]",
      "text/latex": [
       "$$x_{1} \\left(- \\lambda + 10 x_{1} - 8 x_{2} - 12\\right) = 0$$"
      ],
      "text/plain": [
       "x₁⋅(-λ + 10⋅x₁ - 8⋅x₂ - 12) = 0"
      ]
     },
     "execution_count": 17,
     "metadata": {},
     "output_type": "execute_result"
    },
    {
     "data": {
      "image/png": "[encoded data removed]",
      "text/latex": [
       "$$x_{2} \\left(- \\lambda - 8 x_{1} + 14 x_{2} - 4\\right) = 0$$"
      ],
      "text/plain": [
       "x₂⋅(-λ - 8⋅x₁ + 14⋅x₂ - 4) = 0"
      ]
     },
     "execution_count": 17,
     "metadata": {},
     "output_type": "execute_result"
    },
    {
     "data": {
      "image/png": "[encoded data removed]",
      "text/latex": [
       "$$\\lambda \\left(- x_{1} - x_{2} + 16\\right) = 0$$"
      ],
      "text/plain": [
       "λ⋅(-x₁ - x₂ + 16) = 0"
      ]
     },
     "execution_count": 17,
     "metadata": {},
     "output_type": "execute_result"
    },
    {
     "data": {
      "image/png": "[encoded data removed]",
      "text/latex": [
       "$$- x_{1} - x_{2} + 16$$"
      ],
      "text/plain": [
       "-x₁ - x₂ + 16"
      ]
     },
     "execution_count": 17,
     "metadata": {},
     "output_type": "execute_result"
    }
   ],
   "source": [
    "# equality constraints\n",
    "eq1 = Eq(x1*lagrange.diff(x1))\n",
    "eq2 = Eq(x2*lagrange.diff(x2))\n",
    "eq3 = Eq(lambda_*lagrange.diff(lambda_))\n",
    "eq4 = lagrange.diff(lambda_)\n",
    "eq1\n",
    "eq2\n",
    "eq3\n",
    "eq4"
   ]
  },
  {
   "cell_type": "code",
   "execution_count": 18,
   "metadata": {},
   "outputs": [
    {
     "data": {
      "image/png": "[encoded data removed]",
      "text/latex": [
       "$$\\left ( \\left [ \\lambda, \\quad x_{1}, \\quad x_{2}\\right ], \\quad \\left\\{\\left ( 22, \\quad 9, \\quad 7\\right ), \\left ( 148, \\quad 16, \\quad 0\\right ), \\left ( 220, \\quad 0, \\quad 16\\right )\\right\\}\\right )$$"
      ],
      "text/plain": [
       "([λ, x₁, x₂], set([(22, 9, 7), (148, 16, 0), (220, 0, 16)]))"
      ]
     },
     "execution_count": 18,
     "metadata": {},
     "output_type": "execute_result"
    }
   ],
   "source": [
    "# Find all the solutions\n",
    "results = solve([eq1,eq2,eq3,eq4],x1,x2,lambda_,set=True)\n",
    "solve([eq1,eq2,eq3,eq4],x1,x2,lambda_,set=True)"
   ]
  },
  {
   "cell_type": "code",
   "execution_count": 19,
   "metadata": {},
   "outputs": [
    {
     "name": "stdout",
     "output_type": "stream",
     "text": [
      "lambda_=22, x1=9,x2=7\n",
      "f(x)= 189\n"
     ]
    }
   ],
   "source": [
    "# Print all the solutions under defined conditions\n",
    "for x in results[1]:\n",
    "    if (x[1]>=0) & (x[2]>=0) & (og1.subs([(lambda_,x[0]),(x1,x[1]),(x2,x[2])])) & (og2.subs([(lambda_,x[0]),(x1,x[1]),(x2,x[2])])):\n",
    "        print('lambda_={}, x1={},x2={}'.format(x[0],x[1],x[2]))\n",
    "        solution = f.subs([(x1,x[1]),(x2,x[2])])\n",
    "        print('f(x)=',solution)"
   ]
  },
  {
   "cell_type": "markdown",
   "metadata": {},
   "source": [
    "Optimal solution:\n",
    "$lambda=22, x_1=9,x_2=7$, \n",
    "$f(x)= 189$"
   ]
  },
  {
   "cell_type": "markdown",
   "metadata": {},
   "source": [
    "> ### <left><img src='https://image.flaticon.com/icons/svg/717/717954.svg' width=\"30px\"> Ex. 4\n",
    "> ### Maximize the function $x_1^2*0.0547^2+x_2^2*0.0361^2+2*x_1*0.0547*x_2*0.0361*0.5$\n",
    "> ### where:\n",
    "> ### $x_1\\geq 0$ and\n",
    "> ### $x_2 \\geq 0$ and\n",
    "> ### $x_1*0.0209+x_2*0.0095-0.02$\n",
    "> ### $x_1+x_2-1$"
   ]
  },
  {
   "cell_type": "code",
   "execution_count": 20,
   "metadata": {},
   "outputs": [],
   "source": [
    "# Define function\n",
    "f= x1**2*0.0547**2+x2**2*0.0361**2+2*x1*0.0547*x2*0.0361*0.5;\n",
    "# Constraint\n",
    "w1= x1*0.0209+x2*0.0095-0.02;\n",
    "w2= x1+x2-1;\n",
    "# Lagrange\n",
    "lagrange= f-lambda_1*w1-lambda_2*w2;"
   ]
  },
  {
   "cell_type": "code",
   "execution_count": 21,
   "metadata": {},
   "outputs": [
    {
     "data": {
      "image/png": "[encoded data removed]",
      "text/latex": [
       "$$- 0.0209 \\lambda_{1} - \\lambda_{2} + 0.00598418 x_{1} + 0.00197467 x_{2} \\leq 0$$"
      ],
      "text/plain": [
       "-0.0209⋅λ₁ - λ₂ + 0.00598418⋅x₁ + 0.00197467⋅x₂ ≤ 0"
      ]
     },
     "execution_count": 21,
     "metadata": {},
     "output_type": "execute_result"
    },
    {
     "data": {
      "image/png": "[encoded data removed]",
      "text/latex": [
       "$$- 0.0095 \\lambda_{1} - \\lambda_{2} + 0.00197467 x_{1} + 0.00260642 x_{2} \\leq 0$$"
      ],
      "text/plain": [
       "-0.0095⋅λ₁ - λ₂ + 0.00197467⋅x₁ + 0.00260642⋅x₂ ≤ 0"
      ]
     },
     "execution_count": 21,
     "metadata": {},
     "output_type": "execute_result"
    },
    {
     "data": {
      "image/png": "[encoded data removed]",
      "text/latex": [
       "$$- 0.0209 x_{1} - 0.0095 x_{2} + 0.02 \\geq 0$$"
      ],
      "text/plain": [
       "-0.0209⋅x₁ - 0.0095⋅x₂ + 0.02 ≥ 0"
      ]
     },
     "execution_count": 21,
     "metadata": {},
     "output_type": "execute_result"
    }
   ],
   "source": [
    "#inequality constraints\n",
    "og1=diff(lagrange,x1)<=0;\n",
    "og2=diff(lagrange,x2)<=0;\n",
    "og3=diff(lagrange,lambda_1)>=0;\n",
    "og1\n",
    "og2\n",
    "og3"
   ]
  },
  {
   "cell_type": "code",
   "execution_count": 22,
   "metadata": {},
   "outputs": [
    {
     "data": {
      "image/png": "[encoded data removed]",
      "text/latex": [
       "$$x_{1} \\left(- 0.0209 \\lambda_{1} - \\lambda_{2} + 0.00598418 x_{1} + 0.00197467 x_{2}\\right) = 0$$"
      ],
      "text/plain": [
       "x₁⋅(-0.0209⋅λ₁ - λ₂ + 0.00598418⋅x₁ + 0.00197467⋅x₂) = 0"
      ]
     },
     "execution_count": 22,
     "metadata": {},
     "output_type": "execute_result"
    },
    {
     "data": {
      "image/png": "[encoded data removed]",
      "text/latex": [
       "$$x_{2} \\left(- 0.0095 \\lambda_{1} - \\lambda_{2} + 0.00197467 x_{1} + 0.00260642 x_{2}\\right) = 0$$"
      ],
      "text/plain": [
       "x₂⋅(-0.0095⋅λ₁ - λ₂ + 0.00197467⋅x₁ + 0.00260642⋅x₂) = 0"
      ]
     },
     "execution_count": 22,
     "metadata": {},
     "output_type": "execute_result"
    },
    {
     "data": {
      "image/png": "[encoded data removed]",
      "text/latex": [
       "$$\\lambda_{1} \\left(- 0.0209 x_{1} - 0.0095 x_{2} + 0.02\\right) = 0$$"
      ],
      "text/plain": [
       "λ₁⋅(-0.0209⋅x₁ - 0.0095⋅x₂ + 0.02) = 0"
      ]
     },
     "execution_count": 22,
     "metadata": {},
     "output_type": "execute_result"
    },
    {
     "data": {
      "image/png": "[encoded data removed]",
      "text/latex": [
       "$$\\lambda_{2} \\left(- x_{1} - x_{2} + 1\\right) = 0$$"
      ],
      "text/plain": [
       "λ₂⋅(-x₁ - x₂ + 1) = 0"
      ]
     },
     "execution_count": 22,
     "metadata": {},
     "output_type": "execute_result"
    },
    {
     "data": {
      "image/png": "[encoded data removed]",
      "text/latex": [
       "$$- x_{1} - x_{2} + 1 = 0$$"
      ],
      "text/plain": [
       "-x₁ - x₂ + 1 = 0"
      ]
     },
     "execution_count": 22,
     "metadata": {},
     "output_type": "execute_result"
    }
   ],
   "source": [
    "#equality constraints\n",
    "eq1=Eq(x1*diff(lagrange,x1))\n",
    "eq2=Eq(x2*diff(lagrange,x2))\n",
    "eq3=Eq(lambda_1*diff(lagrange,lambda_1))\n",
    "eq4=Eq(lambda_2*diff(lagrange,lambda_2))\n",
    "eq5=Eq(diff(lagrange,lambda_2))\n",
    "eq1\n",
    "eq2\n",
    "eq3\n",
    "eq4\n",
    "eq5"
   ]
  },
  {
   "cell_type": "code",
   "execution_count": 23,
   "metadata": {},
   "outputs": [
    {
     "data": {
      "image/png": "[encoded data removed]",
      "text/latex": [
       "$$\\left ( \\left [ \\lambda_{1}, \\quad \\lambda_{2}, \\quad x_{1}, \\quad x_{2}\\right ], \\quad \\left\\{\\left ( 0.0, \\quad 0.0025204286824483, \\quad 0.136116054692045, \\quad 0.863883945307955\\right ), \\left ( 0.0, \\quad 0.00260642, \\quad 0.0, \\quad 1.0\\right ), \\left ( 0.0, \\quad 0.00598418, \\quad 1.0, \\quad 0.0\\right ), \\left ( 0.319569713758079, \\quad -0.00101136728070175, \\quad 0.921052631578947, \\quad 0.0789473684210526\\right )\\right\\}\\right )$$"
      ],
      "text/plain": [
       "([λ₁, λ₂, x₁, x₂], set([(0.0, 0.0025204286824483, 0.136116054692045, 0.8638839\n",
       "45307955), (0.0, 0.00260642, 0.0, 1.0), (0.0, 0.00598418, 1.0, 0.0), (0.319569\n",
       "713758079, -0.00101136728070175, 0.921052631578947, 0.0789473684210526)]))"
      ]
     },
     "execution_count": 23,
     "metadata": {},
     "output_type": "execute_result"
    }
   ],
   "source": [
    "# Find all the solutions\n",
    "results = solve([eq1,eq2,eq3,eq4,eq5],x1,x2,lambda_1,lambda_2,set=True)\n",
    "results"
   ]
  },
  {
   "cell_type": "code",
   "execution_count": 24,
   "metadata": {},
   "outputs": [
    {
     "name": "stdout",
     "output_type": "stream",
     "text": [
      "lambda_1=0.319569713758079,lambda_2=-0.00101136728070175, x1=0.921052631578947,x2=0.0789473684210526\n",
      "f(x)= 0.00269001349722992\n",
      "lambda_1=0.0,lambda_2=0.00252042868244830, x1=0.136116054692045,x2=0.863883945307955\n",
      "f(x)= 0.00126021434122415\n",
      "lambda_1=0.0,lambda_2=0.00260642000000000, x1=0.0,x2=1.00000000000000\n",
      "f(x)= 0.00130321000000000\n"
     ]
    }
   ],
   "source": [
    "# Print all the solutions under defined conditions\n",
    "for x in results[1]:\n",
    "    if (x[0]>=0) & (x[2]>=0) & (x[3]>=0) & (og1.subs([(lambda_1,x[0]),(lambda_2,x[1]),(x1,x[2]),(x2,x[3])])) & (og2.subs([(lambda_1,x[0]),(lambda_2,x[1]),(x1,x[2]),(x2,x[3])])) & (og3.subs([(lambda_1,x[0]),(lambda_2,x[1]),(x1,x[2]),(x2,x[3])])):\n",
    "        print('lambda_1={},lambda_2={}, x1={},x2={}'.format(x[0],x[1],x[2],x[3]))\n",
    "        solution = f.subs([(x1,x[2]),(x2,x[3])])\n",
    "        print('f(x)=',solution)"
   ]
  },
  {
   "cell_type": "markdown",
   "metadata": {},
   "source": [
    "Optimal solution:\n",
    "$lambda_1=0.31,lambda_2=-0.001, x_1=0.92,x_2=0.078$, \n",
    "$f(x)= 0.0026$"
   ]
  },
  {
   "cell_type": "code",
   "execution_count": null,
   "metadata": {},
   "outputs": [],
   "source": []
  }
 ],
 "metadata": {
  "kernelspec": {
   "display_name": "Python 3",
   "language": "python",
   "name": "python3"
  },
  "language_info": {
   "codemirror_mode": {
    "name": "ipython",
    "version": 3
   },
   "file_extension": ".py",
   "mimetype": "text/x-python",
   "name": "python",
   "nbconvert_exporter": "python",
   "pygments_lexer": "ipython3",
   "version": "3.6.4"
  }
 },
 "nbformat": 4,
 "nbformat_minor": 2
}
