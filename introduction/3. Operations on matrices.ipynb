{
 "cells": [
  {
   "cell_type": "markdown",
   "metadata": {},
   "source": [
    "# Operations on matrices\n",
    "First, as in every new kernel, you should start with setting up the environment, as explained in the first part."
   ]
  },
  {
   "cell_type": "code",
   "execution_count": 1,
   "metadata": {},
   "outputs": [],
   "source": [
    "from sympy import *\n",
    "from IPython.core.interactiveshell import InteractiveShell #print all elements, not only last one\n",
    "InteractiveShell.ast_node_interactivity = \"all\"\n",
    "init_printing(use_unicode=True)"
   ]
  },
  {
   "cell_type": "markdown",
   "metadata": {},
   "source": [
    "> ### <left><img src='https://image.flaticon.com/icons/svg/717/717954.svg' width=\"30px\"></left> Ex.1\n",
    "> #### Transpose matrix A, calculate determinant of said matrix, then calculate $x1, x2$ and $x3$:\n",
    ">\n",
    ">#### $  \n",
    "\\begin{bmatrix} 4&-2& 0 \\\\ 4& 3& 3 \\\\ -3& 7& 2 \\end{bmatrix}\n",
    "\\times\n",
    "\\begin{bmatrix} x1\\\\x2\\\\x3 \\end{bmatrix}\n",
    "=\n",
    "\\begin{bmatrix} 18&0&-32 \\end{bmatrix}\n",
    "$\n",
    "\n",
    "First, let's define both matrices."
   ]
  },
  {
   "cell_type": "code",
   "execution_count": 2,
   "metadata": {},
   "outputs": [],
   "source": [
    "A = Matrix([[ 4,-2, 0],\n",
    "            [ 4, 3, 3],\n",
    "            [-3, 7, 2]])\n",
    "\n",
    "C = Matrix([18,0,-32])"
   ]
  },
  {
   "cell_type": "markdown",
   "metadata": {},
   "source": [
    "then transpose matrix using the transpose() method"
   ]
  },
  {
   "cell_type": "code",
   "execution_count": 3,
   "metadata": {},
   "outputs": [
    {
     "data": {
      "text/latex": [
       "$$\\left[\\begin{matrix}4 & 4 & -3\\\\-2 & 3 & 7\\\\0 & 3 & 2\\end{matrix}\\right]$$"
      ],
      "text/plain": [
       "⎡4   4  -3⎤\n",
       "⎢         ⎥\n",
       "⎢-2  3  7 ⎥\n",
       "⎢         ⎥\n",
       "⎣0   3  2 ⎦"
      ]
     },
     "execution_count": 3,
     "metadata": {},
     "output_type": "execute_result"
    }
   ],
   "source": [
    "transpose(A)"
   ]
  },
  {
   "cell_type": "markdown",
   "metadata": {},
   "source": [
    "next, using det() calculate determinant of matrix (both ways work)"
   ]
  },
  {
   "cell_type": "code",
   "execution_count": 4,
   "metadata": {},
   "outputs": [
    {
     "data": {
      "image/png": "[encoded data removed]",
      "text/latex": [
       "$$-26$$"
      ],
      "text/plain": [
       "-26"
      ]
     },
     "execution_count": 4,
     "metadata": {},
     "output_type": "execute_result"
    },
    {
     "data": {
      "image/png": "[encoded data removed]",
      "text/latex": [
       "$$-26$$"
      ],
      "text/plain": [
       "-26"
      ]
     },
     "execution_count": 4,
     "metadata": {},
     "output_type": "execute_result"
    }
   ],
   "source": [
    "det(A)\n",
    "A.det()"
   ]
  },
  {
   "cell_type": "markdown",
   "metadata": {},
   "source": [
    "let's check:"
   ]
  },
  {
   "cell_type": "code",
   "execution_count": 5,
   "metadata": {},
   "outputs": [
    {
     "data": {
      "image/png": "[encoded data removed]",
      "text/latex": [
       "$$-26$$"
      ],
      "text/plain": [
       "-26"
      ]
     },
     "execution_count": 5,
     "metadata": {},
     "output_type": "execute_result"
    }
   ],
   "source": [
    "4*3*2+4*7*0+-2*3*-3-3*-3*0-4*3*7-4*-2*2"
   ]
  },
  {
   "cell_type": "markdown",
   "metadata": {},
   "source": [
    "last, using linsolve() and the first three elements of x, let's solve equations"
   ]
  },
  {
   "cell_type": "code",
   "execution_count": 6,
   "metadata": {},
   "outputs": [
    {
     "data": {
      "image/png": "[encoded data removed]",
      "text/latex": [
       "$$\\left\\{\\left ( 3, \\quad -3, \\quad -1\\right )\\right\\}$$"
      ],
      "text/plain": [
       "{(3, -3, -1)}"
      ]
     },
     "execution_count": 6,
     "metadata": {},
     "output_type": "execute_result"
    }
   ],
   "source": [
    "x=symbols(\"x:11\", seq=True)\n",
    "linsolve((A,C),x[0:3])"
   ]
  },
  {
   "cell_type": "markdown",
   "metadata": {},
   "source": [
    "> ### <left><img src='https://image.flaticon.com/icons/svg/717/717954.svg' width=\"30px\"></left> Ex.2\n",
    "> #### Create:\n",
    "> #### a) a 5x5 matrix with values from range 1 to 25\n",
    "> #### b) a 6x6 identity matrix\n",
    "> #### c) a 2x3 and 3x3 zeros matrix\n",
    "> #### d) a 5x2 and 2x2 ones matrix"
   ]
  },
  {
   "cell_type": "code",
   "execution_count": 7,
   "metadata": {},
   "outputs": [
    {
     "data": {
      "text/latex": [
       "$$\\left[\\begin{matrix}1 & 2 & 3 & 4 & 5\\\\6 & 7 & 8 & 9 & 10\\\\11 & 12 & 13 & 14 & 15\\\\16 & 17 & 18 & 19 & 20\\\\21 & 22 & 23 & 24 & 25\\end{matrix}\\right]$$"
      ],
      "text/plain": [
       "⎡1   2   3   4   5 ⎤\n",
       "⎢                  ⎥\n",
       "⎢6   7   8   9   10⎥\n",
       "⎢                  ⎥\n",
       "⎢11  12  13  14  15⎥\n",
       "⎢                  ⎥\n",
       "⎢16  17  18  19  20⎥\n",
       "⎢                  ⎥\n",
       "⎣21  22  23  24  25⎦"
      ]
     },
     "execution_count": 7,
     "metadata": {},
     "output_type": "execute_result"
    },
    {
     "data": {
      "text/latex": [
       "$$\\left[\\begin{matrix}1 & 0 & 0 & 0 & 0 & 0\\\\0 & 1 & 0 & 0 & 0 & 0\\\\0 & 0 & 1 & 0 & 0 & 0\\\\0 & 0 & 0 & 1 & 0 & 0\\\\0 & 0 & 0 & 0 & 1 & 0\\\\0 & 0 & 0 & 0 & 0 & 1\\end{matrix}\\right]$$"
      ],
      "text/plain": [
       "⎡1  0  0  0  0  0⎤\n",
       "⎢                ⎥\n",
       "⎢0  1  0  0  0  0⎥\n",
       "⎢                ⎥\n",
       "⎢0  0  1  0  0  0⎥\n",
       "⎢                ⎥\n",
       "⎢0  0  0  1  0  0⎥\n",
       "⎢                ⎥\n",
       "⎢0  0  0  0  1  0⎥\n",
       "⎢                ⎥\n",
       "⎣0  0  0  0  0  1⎦"
      ]
     },
     "execution_count": 7,
     "metadata": {},
     "output_type": "execute_result"
    },
    {
     "data": {
      "text/latex": [
       "$$\\left[\\begin{matrix}0 & 0 & 0\\\\0 & 0 & 0\\end{matrix}\\right]$$"
      ],
      "text/plain": [
       "⎡0  0  0⎤\n",
       "⎢       ⎥\n",
       "⎣0  0  0⎦"
      ]
     },
     "execution_count": 7,
     "metadata": {},
     "output_type": "execute_result"
    },
    {
     "data": {
      "text/latex": [
       "$$\\left[\\begin{matrix}0 & 0 & 0\\\\0 & 0 & 0\\\\0 & 0 & 0\\end{matrix}\\right]$$"
      ],
      "text/plain": [
       "⎡0  0  0⎤\n",
       "⎢       ⎥\n",
       "⎢0  0  0⎥\n",
       "⎢       ⎥\n",
       "⎣0  0  0⎦"
      ]
     },
     "execution_count": 7,
     "metadata": {},
     "output_type": "execute_result"
    },
    {
     "data": {
      "text/latex": [
       "$$\\left[\\begin{matrix}1 & 1\\\\1 & 1\\\\1 & 1\\\\1 & 1\\\\1 & 1\\end{matrix}\\right]$$"
      ],
      "text/plain": [
       "⎡1  1⎤\n",
       "⎢    ⎥\n",
       "⎢1  1⎥\n",
       "⎢    ⎥\n",
       "⎢1  1⎥\n",
       "⎢    ⎥\n",
       "⎢1  1⎥\n",
       "⎢    ⎥\n",
       "⎣1  1⎦"
      ]
     },
     "execution_count": 7,
     "metadata": {},
     "output_type": "execute_result"
    },
    {
     "data": {
      "text/latex": [
       "$$\\left[\\begin{matrix}1 & 1\\\\1 & 1\\end{matrix}\\right]$$"
      ],
      "text/plain": [
       "⎡1  1⎤\n",
       "⎢    ⎥\n",
       "⎣1  1⎦"
      ]
     },
     "execution_count": 7,
     "metadata": {},
     "output_type": "execute_result"
    }
   ],
   "source": [
    "#a)\n",
    "Matrix(5,5,range(1,26))\n",
    "#b)\n",
    "eye(6)\n",
    "#c)\n",
    "zeros(2,3)\n",
    "zeros(3)\n",
    "#d)\n",
    "ones(5,2)\n",
    "ones(2)"
   ]
  },
  {
   "cell_type": "markdown",
   "metadata": {},
   "source": [
    "> ### <left><img src='https://image.flaticon.com/icons/svg/717/717954.svg' width=\"30px\"></left> Ex.3\n",
    "> #### Find inverse matrix of A and diagonalize matrix B."
   ]
  },
  {
   "cell_type": "code",
   "execution_count": 8,
   "metadata": {},
   "outputs": [
    {
     "data": {
      "text/latex": [
       "$$\\left[\\begin{matrix}\\frac{8}{17} & - \\frac{6}{17} & - \\frac{1}{17}\\\\- \\frac{12}{17} & \\frac{9}{17} & \\frac{10}{17}\\\\\\frac{19}{34} & - \\frac{5}{17} & - \\frac{13}{34}\\end{matrix}\\right]$$"
      ],
      "text/plain": [
       "⎡8/17  -6/17  -1/17⎤\n",
       "⎢                  ⎥\n",
       "⎢-12           10  ⎥\n",
       "⎢────  9/17    ──  ⎥\n",
       "⎢ 17           17  ⎥\n",
       "⎢                  ⎥\n",
       "⎢ 19          -13  ⎥\n",
       "⎢ ──   -5/17  ──── ⎥\n",
       "⎣ 34           34  ⎦"
      ]
     },
     "execution_count": 8,
     "metadata": {},
     "output_type": "execute_result"
    },
    {
     "data": {
      "text/plain": [
       "True"
      ]
     },
     "execution_count": 8,
     "metadata": {},
     "output_type": "execute_result"
    }
   ],
   "source": [
    "x = symbols(\"x:11\", seq=True)\n",
    "A = Matrix([[1,4,6,],[-2,5,8],[3,2,0]])\n",
    "A.inv()\n",
    "A**-1 == A.inv()"
   ]
  },
  {
   "cell_type": "code",
   "execution_count": 9,
   "metadata": {},
   "outputs": [
    {
     "data": {
      "text/plain": [
       "True"
      ]
     },
     "execution_count": 9,
     "metadata": {},
     "output_type": "execute_result"
    },
    {
     "data": {
      "text/latex": [
       "$$\\left[\\begin{matrix}-1 & 1 & -1\\\\1 & 0 & 1\\\\0 & 3 & 1\\end{matrix}\\right]$$"
      ],
      "text/plain": [
       "⎡-1  1  -1⎤\n",
       "⎢         ⎥\n",
       "⎢1   0  1 ⎥\n",
       "⎢         ⎥\n",
       "⎣0   3  1 ⎦"
      ]
     },
     "execution_count": 9,
     "metadata": {},
     "output_type": "execute_result"
    },
    {
     "data": {
      "text/latex": [
       "$$\\left[\\begin{matrix}1 & 0 & 0\\\\0 & 1 & 0\\\\0 & 0 & 2\\end{matrix}\\right]$$"
      ],
      "text/plain": [
       "⎡1  0  0⎤\n",
       "⎢       ⎥\n",
       "⎢0  1  0⎥\n",
       "⎢       ⎥\n",
       "⎣0  0  2⎦"
      ]
     },
     "execution_count": 9,
     "metadata": {},
     "output_type": "execute_result"
    },
    {
     "data": {
      "text/plain": [
       "True"
      ]
     },
     "execution_count": 9,
     "metadata": {},
     "output_type": "execute_result"
    },
    {
     "data": {
      "text/plain": [
       "True"
      ]
     },
     "execution_count": 9,
     "metadata": {},
     "output_type": "execute_result"
    }
   ],
   "source": [
    "B = Matrix([[4,3,-1],[-3, -2, 1],[-3, -3, 2]])\n",
    "B.is_diagonalizable() # check if B can be diagonalized\n",
    "(P,D) = B.diagonalize()\n",
    "P # print transformation\n",
    "D # print diagonal matrix\n",
    "D.is_diagonal() # check if D is diagonal\n",
    "P**-1 * B * P == D # check if diagonalization equation is true"
   ]
  }
 ],
 "metadata": {
  "kernelspec": {
   "display_name": "Python 3",
   "language": "python",
   "name": "python3"
  },
  "language_info": {
   "codemirror_mode": {
    "name": "ipython",
    "version": 3
   },
   "file_extension": ".py",
   "mimetype": "text/x-python",
   "name": "python",
   "nbconvert_exporter": "python",
   "pygments_lexer": "ipython3",
   "version": "3.7.0"
  }
 },
 "nbformat": 4,
 "nbformat_minor": 2
}
