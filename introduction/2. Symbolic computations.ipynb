{
 "cells": [
  {
   "cell_type": "markdown",
   "metadata": {},
   "source": [
    "# Symbolic computations\n",
    "First, as in every new kernel, you should start with setting up the environment, as explained in the previous part."
   ]
  },
  {
   "cell_type": "code",
   "execution_count": 1,
   "metadata": {},
   "outputs": [],
   "source": [
    "from sympy import *\n",
    "from IPython.core.interactiveshell import InteractiveShell #print all elements, not only last one\n",
    "InteractiveShell.ast_node_interactivity = \"all\"\n",
    "init_printing(use_unicode=True)"
   ]
  },
  {
   "cell_type": "markdown",
   "metadata": {},
   "source": [
    "## Assigning symbols to variables\n",
    "In order to use symbols in computations it is necessary to define them first. If you don't do it, python understands them as variables."
   ]
  },
  {
   "cell_type": "code",
   "execution_count": 2,
   "metadata": {},
   "outputs": [
    {
     "ename": "NameError",
     "evalue": "name 'x' is not defined",
     "output_type": "error",
     "traceback": [
      "\u001b[1;31m---------------------------------------------------------------------------\u001b[0m",
      "\u001b[1;31mNameError\u001b[0m                                 Traceback (most recent call last)",
      "\u001b[1;32m<ipython-input-2-81740a8d2421>\u001b[0m in \u001b[0;36m<module>\u001b[1;34m()\u001b[0m\n\u001b[1;32m----> 1\u001b[1;33m \u001b[0mx\u001b[0m\u001b[1;33m+\u001b[0m\u001b[1;36m1\u001b[0m \u001b[1;31m# before assignment\u001b[0m\u001b[1;33m\u001b[0m\u001b[0m\n\u001b[0m",
      "\u001b[1;31mNameError\u001b[0m: name 'x' is not defined"
     ]
    }
   ],
   "source": [
    "x+1 # before assignment"
   ]
  },
  {
   "cell_type": "code",
   "execution_count": 3,
   "metadata": {},
   "outputs": [
    {
     "data": {
      "image/png": "[encoded data removed]",
      "text/latex": [
       "$$x + 1$$"
      ],
      "text/plain": [
       "x + 1"
      ]
     },
     "execution_count": 3,
     "metadata": {},
     "output_type": "execute_result"
    }
   ],
   "source": [
    "x = symbols(\"x\") #assigning symbol to variable\n",
    "x+1 #after assignment"
   ]
  },
  {
   "cell_type": "code",
   "execution_count": 4,
   "metadata": {},
   "outputs": [],
   "source": [
    "del x # in order to prevent mistakes, it is best to assign new symbols to variables before each example"
   ]
  },
  {
   "cell_type": "markdown",
   "metadata": {},
   "source": [
    "It is also possible to define functions as symbols. Operations that can be performed on these functions will be shown later. In this part we will be only taking care of single symbols. Below are two equal ways to define a function - using _symbols_ method with _cls=function_ and _Function_ method."
   ]
  },
  {
   "cell_type": "code",
   "execution_count": 5,
   "metadata": {},
   "outputs": [],
   "source": [
    "f = symbols('f', cls=Function)\n",
    "g = Function('f')"
   ]
  },
  {
   "cell_type": "code",
   "execution_count": 6,
   "metadata": {},
   "outputs": [
    {
     "data": {
      "text/plain": [
       "True"
      ]
     },
     "execution_count": 6,
     "metadata": {},
     "output_type": "execute_result"
    },
    {
     "data": {
      "text/plain": [
       "True"
      ]
     },
     "execution_count": 6,
     "metadata": {},
     "output_type": "execute_result"
    },
    {
     "data": {
      "text/plain": [
       "True"
      ]
     },
     "execution_count": 6,
     "metadata": {},
     "output_type": "execute_result"
    }
   ],
   "source": [
    "type(f)==type(g)\n",
    "f==g\n",
    "f is g"
   ]
  },
  {
   "cell_type": "code",
   "execution_count": 7,
   "metadata": {},
   "outputs": [],
   "source": [
    "del f, g"
   ]
  },
  {
   "cell_type": "markdown",
   "metadata": {},
   "source": [
    "## Symbols assumptions\n",
    "There are many assumptions that can be given to symbols, below we presented only some of them with the differences that they cause. "
   ]
  },
  {
   "cell_type": "code",
   "execution_count": 8,
   "metadata": {},
   "outputs": [
    {
     "data": {
      "image/png": "[encoded data removed]",
      "text/latex": [
       "$$\\mathrm{False}$$"
      ],
      "text/plain": [
       "False"
      ]
     },
     "execution_count": 8,
     "metadata": {},
     "output_type": "execute_result"
    },
    {
     "data": {
      "image/png": "[encoded data removed]",
      "text/latex": [
       "$$\\left [ i\\right ]$$"
      ],
      "text/plain": [
       "[ⅈ]"
      ]
     },
     "execution_count": 8,
     "metadata": {},
     "output_type": "execute_result"
    }
   ],
   "source": [
    "#symbol a is a real number, symbol b doesn't have to be real\n",
    "a = symbols(\"a\", real=True)\n",
    "b = symbols(\"b\", real=False)\n",
    "\n",
    "#sqrt(-1) is an imaginary number i. Assuming that a is real, first equation has no solution.\n",
    "# Without such an assuption, b can be equal to i, since it doesn't have to be real.\n",
    "solve(Eq(a,sqrt(-1)))\n",
    "solve(Eq(b,sqrt(-1)))"
   ]
  },
  {
   "cell_type": "code",
   "execution_count": 10,
   "metadata": {},
   "outputs": [
    {
     "data": {
      "image/png": "[encoded data removed]",
      "text/latex": [
       "$$\\left [ 2\\right ]$$"
      ],
      "text/plain": [
       "[2]"
      ]
     },
     "execution_count": 10,
     "metadata": {},
     "output_type": "execute_result"
    },
    {
     "data": {
      "image/png": "[encoded data removed]",
      "text/latex": [
       "$$\\left [ \\right ]$$"
      ],
      "text/plain": [
       "[]"
      ]
     },
     "execution_count": 10,
     "metadata": {},
     "output_type": "execute_result"
    }
   ],
   "source": [
    "# symbol a is even, symbol b is odd\n",
    "a = symbols(\"a\", even=True)\n",
    "b = symbols(\"b\", even=False)\n",
    "\n",
    "# when 4*a=8, there is a solution - a is even.\n",
    "# when 4*b=8, there is no solution, since here are no odd numbers that solve this equation.\n",
    "solve(Eq(4*a,8))\n",
    "solve(Eq(4*b,8))"
   ]
  },
  {
   "cell_type": "code",
   "execution_count": 13,
   "metadata": {},
   "outputs": [
    {
     "data": {
      "image/png": "[encoded data removed]",
      "text/latex": [
       "$$\\left [ \\right ]$$"
      ],
      "text/plain": [
       "[]"
      ]
     },
     "execution_count": 13,
     "metadata": {},
     "output_type": "execute_result"
    },
    {
     "data": {
      "image/png": "[encoded data removed]",
      "text/latex": [
       "$$\\left [ 6\\right ]$$"
      ],
      "text/plain": [
       "[6]"
      ]
     },
     "execution_count": 13,
     "metadata": {},
     "output_type": "execute_result"
    },
    {
     "data": {
      "image/png": "[encoded data removed]",
      "text/latex": [
       "$$\\left [ 7\\right ]$$"
      ],
      "text/plain": [
       "[7]"
      ]
     },
     "execution_count": 13,
     "metadata": {},
     "output_type": "execute_result"
    },
    {
     "data": {
      "image/png": "[encoded data removed]",
      "text/latex": [
       "$$\\left [ \\right ]$$"
      ],
      "text/plain": [
       "[]"
      ]
     },
     "execution_count": 13,
     "metadata": {},
     "output_type": "execute_result"
    }
   ],
   "source": [
    "# symbol a has to be prime, symbol b can't be prime\n",
    "a = symbols(\"a\", prime=True)\n",
    "b = symbols(\"b\", prime=False)\n",
    "\n",
    "# there is no solution where a is prime\n",
    "solve(Eq(a,6))\n",
    "solve(Eq(b,6))\n",
    "\n",
    "# there is no solution where b is not prime\n",
    "solve(Eq(a,7))\n",
    "solve(Eq(b,7))"
   ]
  },
  {
   "cell_type": "code",
   "execution_count": 10,
   "metadata": {},
   "outputs": [
    {
     "data": {
      "image/png": "[encoded data removed]",
      "text/latex": [
       "$$\\mathrm{False}$$"
      ],
      "text/plain": [
       "False"
      ]
     },
     "execution_count": 10,
     "metadata": {},
     "output_type": "execute_result"
    },
    {
     "data": {
      "image/png": "[encoded data removed]",
      "text/latex": [
       "$$\\left [ 6.0\\right ]$$"
      ],
      "text/plain": [
       "[6.0]"
      ]
     },
     "execution_count": 10,
     "metadata": {},
     "output_type": "execute_result"
    }
   ],
   "source": [
    "#a is an integer, b is not an integer\n",
    "a = symbols(\"a\", integer=True)\n",
    "b = symbols(\"b\", integer=False)\n",
    "\n",
    "# setting an equal sign between a and 6.0 (float)\n",
    "# although mathematically it is the same, python treats 6 and 6.0 differently \n",
    "solve(Eq(a,6.0))\n",
    "solve(Eq(b,6.0))"
   ]
  },
  {
   "cell_type": "code",
   "execution_count": 11,
   "metadata": {},
   "outputs": [
    {
     "data": {
      "image/png": "[encoded data removed]",
      "text/latex": [
       "$$\\left ( x_{0}, \\quad x_{1}, \\quad x_{2}, \\quad x_{3}, \\quad x_{4}, \\quad x_{5}, \\quad x_{6}, \\quad x_{7}, \\quad x_{8}, \\quad x_{9}\\right )$$"
      ],
      "text/plain": [
       "(x₀, x₁, x₂, x₃, x₄, x₅, x₆, x₇, x₈, x₉)"
      ]
     },
     "execution_count": 11,
     "metadata": {},
     "output_type": "execute_result"
    }
   ],
   "source": [
    "# it is also possible to quickly create sequences of variables - very useful in economics!\n",
    "x = symbols(\"x:10\",seq=True)\n",
    "x"
   ]
  },
  {
   "cell_type": "code",
   "execution_count": 12,
   "metadata": {},
   "outputs": [],
   "source": [
    "del a,b,x"
   ]
  },
  {
   "cell_type": "markdown",
   "metadata": {},
   "source": [
    "> ### <left><img src='https://image.flaticon.com/icons/svg/717/717954.svg' width=\"30px\"></left> Ex.1\n",
    "> #### Define expression _x+1_. Change the value of x to 2 and solve expression.\n",
    "\n",
    "Once defined, a symbol cannot change to a variable (a value cannot be assigned to a symbol) with the \"=\" sign."
   ]
  },
  {
   "cell_type": "code",
   "execution_count": 13,
   "metadata": {},
   "outputs": [
    {
     "data": {
      "image/png": "[encoded data removed]",
      "text/latex": [
       "$$x + 1$$"
      ],
      "text/plain": [
       "x + 1"
      ]
     },
     "execution_count": 13,
     "metadata": {},
     "output_type": "execute_result"
    }
   ],
   "source": [
    "x = symbols('x')    # assigning symbol x to variable x\n",
    "expr = x + 1        # defining symbolic expression\n",
    "x = 2               # assignment of number to symbol AFTER defining expression\n",
    "expr                # after printing, expression is still written with a symbol, 2 didn't replace x"
   ]
  },
  {
   "cell_type": "markdown",
   "metadata": {},
   "source": [
    "However it can be assigned using the subs function."
   ]
  },
  {
   "cell_type": "code",
   "execution_count": 19,
   "metadata": {},
   "outputs": [
    {
     "data": {
      "image/png": "[encoded data removed]",
      "text/latex": [
       "$$3$$"
      ],
      "text/plain": [
       "3"
      ]
     },
     "execution_count": 19,
     "metadata": {},
     "output_type": "execute_result"
    }
   ],
   "source": [
    "x = symbols('x')\n",
    "expr = x + 1\n",
    "expr.subs(x, 2)\n",
    "# the result of x+1 where x=2 is 3"
   ]
  },
  {
   "cell_type": "markdown",
   "metadata": {},
   "source": [
    "#### <left><img src='https://image.flaticon.com/icons/svg/179/179386.svg' width=\"25px\"></left> What happens in first cell above?\n",
    "\n",
    "```python\n",
    "x = symbols('x')\n",
    "expr = x + 1\n",
    "x = 2\n",
    "expr\n",
    "```\n",
    "\n",
    "Line 1 assigns symbol 'x' to variable x, and later line 3 assigns number 2 to variable x. After line 1, when printing x, we can see symbol x. When defining expr in line 2, x stands for symbol. It doesn't overwrite x to 2 in expr when defining x=2. Expression has already been defined before."
   ]
  },
  {
   "cell_type": "code",
   "execution_count": 16,
   "metadata": {},
   "outputs": [
    {
     "data": {
      "image/png": "[encoded data removed]",
      "text/latex": [
       "$$x$$"
      ],
      "text/plain": [
       "x"
      ]
     },
     "execution_count": 16,
     "metadata": {},
     "output_type": "execute_result"
    }
   ],
   "source": [
    "x = symbols('x')\n",
    "x"
   ]
  },
  {
   "cell_type": "code",
   "execution_count": 17,
   "metadata": {},
   "outputs": [
    {
     "data": {
      "image/png": "[encoded data removed]",
      "text/latex": [
       "$$\\left ( x + 1, \\quad x\\right )$$"
      ],
      "text/plain": [
       "(x + 1, x)"
      ]
     },
     "execution_count": 17,
     "metadata": {},
     "output_type": "execute_result"
    }
   ],
   "source": [
    "expr = x + 1\n",
    "expr, x"
   ]
  },
  {
   "cell_type": "code",
   "execution_count": 18,
   "metadata": {},
   "outputs": [
    {
     "data": {
      "image/png": "[encoded data removed]",
      "text/latex": [
       "$$\\left ( x + 1, \\quad 2\\right )$$"
      ],
      "text/plain": [
       "(x + 1, 2)"
      ]
     },
     "execution_count": 18,
     "metadata": {},
     "output_type": "execute_result"
    }
   ],
   "source": [
    "x = 2\n",
    "expr, x"
   ]
  },
  {
   "cell_type": "code",
   "execution_count": 15,
   "metadata": {},
   "outputs": [],
   "source": [
    "del x"
   ]
  },
  {
   "cell_type": "markdown",
   "metadata": {},
   "source": [
    "> ### <left><img src='https://image.flaticon.com/icons/svg/717/717954.svg' width=\"30px\"></left> Ex.2\n",
    "> #### a) Assign symbols _a,b,c_ to variables _a,b,c_ and print them.\n",
    "> #### b) Assign a symbol to a variable written differently. Then assign symbol _coefficient_ to a variable that is much shorter to write."
   ]
  },
  {
   "cell_type": "code",
   "execution_count": 16,
   "metadata": {},
   "outputs": [
    {
     "data": {
      "image/png": "[encoded data removed]",
      "text/latex": [
       "$$a$$"
      ],
      "text/plain": [
       "a"
      ]
     },
     "execution_count": 16,
     "metadata": {},
     "output_type": "execute_result"
    },
    {
     "data": {
      "image/png": "[encoded data removed]",
      "text/latex": [
       "$$b$$"
      ],
      "text/plain": [
       "b"
      ]
     },
     "execution_count": 16,
     "metadata": {},
     "output_type": "execute_result"
    },
    {
     "data": {
      "image/png": "[encoded data removed]",
      "text/latex": [
       "$$c$$"
      ],
      "text/plain": [
       "c"
      ]
     },
     "execution_count": 16,
     "metadata": {},
     "output_type": "execute_result"
    }
   ],
   "source": [
    "a, b, c = symbols(\"a, b, c\")\n",
    "a\n",
    "b\n",
    "c"
   ]
  },
  {
   "cell_type": "code",
   "execution_count": 17,
   "metadata": {},
   "outputs": [
    {
     "data": {
      "image/png": "[encoded data removed]",
      "text/latex": [
       "$$printed$$"
      ],
      "text/plain": [
       "printed"
      ]
     },
     "execution_count": 17,
     "metadata": {},
     "output_type": "execute_result"
    },
    {
     "data": {
      "image/png": "[encoded data removed]",
      "text/latex": [
       "$$coefficient$$"
      ],
      "text/plain": [
       "coefficient"
      ]
     },
     "execution_count": 17,
     "metadata": {},
     "output_type": "execute_result"
    }
   ],
   "source": [
    "written, cf = symbols(\"printed, coefficient\")\n",
    "written\n",
    "cf"
   ]
  },
  {
   "cell_type": "code",
   "execution_count": 18,
   "metadata": {},
   "outputs": [],
   "source": [
    "del a, b, c, written, cf"
   ]
  },
  {
   "cell_type": "markdown",
   "metadata": {},
   "source": [
    "#### <left><img src='https://image.flaticon.com/icons/svg/179/179386.svg' width=\"25px\"></left> ^ is XOR and \\** is power\n",
    "There is an important difference between python and some other languages when it comes to the ^ sign. In python it is the _xor_ logical operator however in some languages the ^ sign indicates the power of a number. See the difference in examples below.  "
   ]
  },
  {
   "cell_type": "code",
   "execution_count": 22,
   "metadata": {},
   "outputs": [
    {
     "data": {
      "image/png": "[encoded data removed]",
      "text/latex": [
       "$$0$$"
      ],
      "text/plain": [
       "0"
      ]
     },
     "execution_count": 22,
     "metadata": {},
     "output_type": "execute_result"
    },
    {
     "data": {
      "image/png": "[encoded data removed]",
      "text/latex": [
       "$$1$$"
      ],
      "text/plain": [
       "1"
      ]
     },
     "execution_count": 22,
     "metadata": {},
     "output_type": "execute_result"
    },
    {
     "data": {
      "image/png": "[encoded data removed]",
      "text/latex": [
       "$$0$$"
      ],
      "text/plain": [
       "0"
      ]
     },
     "execution_count": 22,
     "metadata": {},
     "output_type": "execute_result"
    },
    {
     "data": {
      "image/png": "[encoded data removed]",
      "text/latex": [
       "$$1$$"
      ],
      "text/plain": [
       "1"
      ]
     },
     "execution_count": 22,
     "metadata": {},
     "output_type": "execute_result"
    }
   ],
   "source": [
    "# ^ as logical operator XOR\n",
    "1^1  \n",
    "1^0  \n",
    "0^0  \n",
    "0^1"
   ]
  },
  {
   "cell_type": "code",
   "execution_count": 29,
   "metadata": {},
   "outputs": [
    {
     "data": {
      "image/png": "[encoded data removed]",
      "text/latex": [
       "$$0$$"
      ],
      "text/plain": [
       "0"
      ]
     },
     "execution_count": 29,
     "metadata": {},
     "output_type": "execute_result"
    },
    {
     "data": {
      "image/png": "[encoded data removed]",
      "text/latex": [
       "$$4$$"
      ],
      "text/plain": [
       "4"
      ]
     },
     "execution_count": 29,
     "metadata": {},
     "output_type": "execute_result"
    }
   ],
   "source": [
    "2^2  # ^ treats 2 as True - so True XOR True is 0 (False)\n",
    "2**2 # 2 squared is 4"
   ]
  },
  {
   "cell_type": "markdown",
   "metadata": {},
   "source": [
    "## Solving equations and inequations\n",
    "> ### <left><img src='https://image.flaticon.com/icons/svg/717/717954.svg' width=\"30px\"> Ex.3\n",
    "> #### Write and print equations below. Then solve for x=2 and e=np.e (from numpy library)\n",
    "> #### a) $x=y$\n",
    "> #### b) $x-y=4$\n",
    "> #### c) $y=\\frac{2}{2x^2+x+5}$\n",
    "> #### d) $e^y=\\frac{1}{x^2}$\n",
    "> #### e) $y+2-x\\leq 0$\n",
    "> #### f) $x\\sqrt{3}+4\\geq2x-y^2+\\sqrt{12}$\n",
    "> _source pts. e & f: _ https://www.matemaks.pl/matura-podstawowa-z-matematyki-kurs-nierownosci.html"
   ]
  },
  {
   "cell_type": "code",
   "execution_count": 20,
   "metadata": {},
   "outputs": [],
   "source": [
    "x, y, e = symbols(\"x, y, e\")\n",
    "\n",
    "#define equations\n",
    "# a)\n",
    "eq_a = Eq(x,y)\n",
    "# b)\n",
    "eq_b = Eq(x-y,4)\n",
    "# c)\n",
    "eq_c = Eq(y, 2/(x+2*x**2+5))\n",
    "# d)\n",
    "eq_d = Eq(e**y,1/x**2)\n",
    "# e)\n",
    "eq_e = y+2-x <=0\n",
    "# f)\n",
    "eq_f = (x*sqrt(3)+4>=2*x + y**2)\n",
    "# g)\n",
    "eq_g = Abs(x-y)>0"
   ]
  },
  {
   "cell_type": "code",
   "execution_count": 21,
   "metadata": {},
   "outputs": [
    {
     "data": {
      "image/png": "[encoded data removed]",
      "text/latex": [
       "$$x = y$$"
      ],
      "text/plain": [
       "x = y"
      ]
     },
     "execution_count": 21,
     "metadata": {},
     "output_type": "execute_result"
    },
    {
     "data": {
      "image/png": "[encoded data removed]",
      "text/latex": [
       "$$x - y = 4$$"
      ],
      "text/plain": [
       "x - y = 4"
      ]
     },
     "execution_count": 21,
     "metadata": {},
     "output_type": "execute_result"
    },
    {
     "data": {
      "image/png": "[encoded data removed]",
      "text/latex": [
       "$$y = \\frac{2}{2 x^{2} + x + 5}$$"
      ],
      "text/plain": [
       "         2      \n",
       "y = ────────────\n",
       "       2        \n",
       "    2⋅x  + x + 5"
      ]
     },
     "execution_count": 21,
     "metadata": {},
     "output_type": "execute_result"
    },
    {
     "data": {
      "image/png": "[encoded data removed]",
      "text/latex": [
       "$$e^{y} = \\frac{1}{x^{2}}$$"
      ],
      "text/plain": [
       " y   1 \n",
       "e  = ──\n",
       "      2\n",
       "     x "
      ]
     },
     "execution_count": 21,
     "metadata": {},
     "output_type": "execute_result"
    },
    {
     "data": {
      "image/png": "[encoded data removed]",
      "text/latex": [
       "$$- x + y + 2 \\leq 0$$"
      ],
      "text/plain": [
       "-x + y + 2 ≤ 0"
      ]
     },
     "execution_count": 21,
     "metadata": {},
     "output_type": "execute_result"
    },
    {
     "data": {
      "image/png": "[encoded data removed]",
      "text/latex": [
       "$$\\sqrt{3} x + 4 \\geq 2 x + y^{2}$$"
      ],
      "text/plain": [
       "                  2\n",
       "√3⋅x + 4 ≥ 2⋅x + y "
      ]
     },
     "execution_count": 21,
     "metadata": {},
     "output_type": "execute_result"
    },
    {
     "data": {
      "image/png": "[encoded data removed]",
      "text/latex": [
       "$$\\left|{x - y}\\right| > 0$$"
      ],
      "text/plain": [
       "│x - y│ > 0"
      ]
     },
     "execution_count": 21,
     "metadata": {},
     "output_type": "execute_result"
    }
   ],
   "source": [
    "#print equations\n",
    "eq_a\n",
    "eq_b\n",
    "eq_c\n",
    "eq_d\n",
    "eq_e\n",
    "eq_f\n",
    "eq_g"
   ]
  },
  {
   "cell_type": "code",
   "execution_count": 22,
   "metadata": {},
   "outputs": [],
   "source": [
    "# Define values of x and e\n",
    "# a)\n",
    "eq_a = eq_a.subs(x,2)\n",
    "# b)\n",
    "eq_b = eq_b.subs(x,2)\n",
    "# c)\n",
    "eq_c = eq_c.subs(x,2)\n",
    "# d)\n",
    "import numpy as np\n",
    "eq_d = eq_d.subs({x:2,e:np.e})\n",
    "# e)\n",
    "eq_e = eq_e.subs(x, 2)\n",
    "# f)\n",
    "eq_f = eq_f.subs(x, 2)\n",
    "# g)\n",
    "eq_g = eq_g.subs(x, 2)"
   ]
  },
  {
   "cell_type": "code",
   "execution_count": 23,
   "metadata": {},
   "outputs": [
    {
     "data": {
      "image/png": "[encoded data removed]",
      "text/latex": [
       "$$2 = y$$"
      ],
      "text/plain": [
       "2 = y"
      ]
     },
     "execution_count": 23,
     "metadata": {},
     "output_type": "execute_result"
    },
    {
     "data": {
      "image/png": "[encoded data removed]",
      "text/latex": [
       "$$- y + 2 = 4$$"
      ],
      "text/plain": [
       "-y + 2 = 4"
      ]
     },
     "execution_count": 23,
     "metadata": {},
     "output_type": "execute_result"
    },
    {
     "data": {
      "image/png": "[encoded data removed]",
      "text/latex": [
       "$$y = \\frac{2}{15}$$"
      ],
      "text/plain": [
       "y = 2/15"
      ]
     },
     "execution_count": 23,
     "metadata": {},
     "output_type": "execute_result"
    },
    {
     "data": {
      "image/png": "[encoded data removed]",
      "text/latex": [
       "$$2.71828182845905^{y} = \\frac{1}{4}$$"
      ],
      "text/plain": [
       "                y      \n",
       "2.71828182845905  = 1/4"
      ]
     },
     "execution_count": 23,
     "metadata": {},
     "output_type": "execute_result"
    },
    {
     "data": {
      "image/png": "[encoded data removed]",
      "text/latex": [
       "$$y \\leq 0$$"
      ],
      "text/plain": [
       "y ≤ 0"
      ]
     },
     "execution_count": 23,
     "metadata": {},
     "output_type": "execute_result"
    },
    {
     "data": {
      "image/png": "[encoded data removed]",
      "text/latex": [
       "$$2 \\sqrt{3} + 4 \\geq y^{2} + 4$$"
      ],
      "text/plain": [
       "            2    \n",
       "2⋅√3 + 4 ≥ y  + 4"
      ]
     },
     "execution_count": 23,
     "metadata": {},
     "output_type": "execute_result"
    },
    {
     "data": {
      "image/png": "[encoded data removed]",
      "text/latex": [
       "$$\\left|{y - 2}\\right| > 0$$"
      ],
      "text/plain": [
       "│y - 2│ > 0"
      ]
     },
     "execution_count": 23,
     "metadata": {},
     "output_type": "execute_result"
    }
   ],
   "source": [
    "#print equations after defining\n",
    "eq_a\n",
    "eq_b\n",
    "eq_c\n",
    "eq_d\n",
    "eq_e\n",
    "eq_f\n",
    "eq_g"
   ]
  },
  {
   "cell_type": "code",
   "execution_count": 24,
   "metadata": {},
   "outputs": [
    {
     "data": {
      "image/png": "[encoded data removed]",
      "text/latex": [
       "$$\\left [ 2\\right ]$$"
      ],
      "text/plain": [
       "[2]"
      ]
     },
     "execution_count": 24,
     "metadata": {},
     "output_type": "execute_result"
    },
    {
     "data": {
      "image/png": "[encoded data removed]",
      "text/latex": [
       "$$\\left [ -2\\right ]$$"
      ],
      "text/plain": [
       "[-2]"
      ]
     },
     "execution_count": 24,
     "metadata": {},
     "output_type": "execute_result"
    },
    {
     "data": {
      "image/png": "[encoded data removed]",
      "text/latex": [
       "$$\\left [ \\frac{2}{15}\\right ]$$"
      ],
      "text/plain": [
       "[2/15]"
      ]
     },
     "execution_count": 24,
     "metadata": {},
     "output_type": "execute_result"
    },
    {
     "data": {
      "image/png": "[encoded data removed]",
      "text/latex": [
       "$$\\left [ -1.38629436111989\\right ]$$"
      ],
      "text/plain": [
       "[-1.38629436111989]"
      ]
     },
     "execution_count": 24,
     "metadata": {},
     "output_type": "execute_result"
    },
    {
     "data": {
      "image/png": "[encoded data removed]",
      "text/latex": [
       "$$y \\leq 0 \\wedge -\\infty < y$$"
      ],
      "text/plain": [
       "y ≤ 0 ∧ -∞ < y"
      ]
     },
     "execution_count": 24,
     "metadata": {},
     "output_type": "execute_result"
    },
    {
     "data": {
      "image/png": "[encoded data removed]",
      "text/latex": [
       "$$y \\leq \\sqrt{2} \\sqrt[4]{3} \\wedge - \\sqrt{2} \\sqrt[4]{3} \\leq y$$"
      ],
      "text/plain": [
       "       4 ___       4 ___    \n",
       "y ≤ √2⋅╲╱ 3  ∧ -√2⋅╲╱ 3  ≤ y"
      ]
     },
     "execution_count": 24,
     "metadata": {},
     "output_type": "execute_result"
    },
    {
     "data": {
      "image/png": "[encoded data removed]",
      "text/latex": [
       "$$\\left(-\\infty < y \\wedge y < 2\\right) \\vee \\left(2 < y \\wedge y < \\infty\\right)$$"
      ],
      "text/plain": [
       "(-∞ < y ∧ y < 2) ∨ (2 < y ∧ y < ∞)"
      ]
     },
     "execution_count": 24,
     "metadata": {},
     "output_type": "execute_result"
    }
   ],
   "source": [
    "#solve equations\n",
    "# a)\n",
    "solve(eq_a, y)\n",
    "# b)\n",
    "solve(eq_b, y)\n",
    "# c)\n",
    "solve(eq_c, y)\n",
    "# d)\n",
    "solve(eq_d, y)\n",
    "# e)\n",
    "reduce_inequalities(eq_e)\n",
    "# f)\n",
    "reduce_inequalities(eq_f)\n",
    "# g)\n",
    "reduce_inequalities(eq_g)"
   ]
  },
  {
   "cell_type": "code",
   "execution_count": 25,
   "metadata": {},
   "outputs": [],
   "source": [
    "del x,y,e"
   ]
  },
  {
   "cell_type": "markdown",
   "metadata": {},
   "source": [
    "other inequality solvers can be found here: https://docs.sympy.org/latest/modules/solvers/inequalities.html "
   ]
  },
  {
   "cell_type": "markdown",
   "metadata": {},
   "source": [
    "<left><img src='https://image.flaticon.com/icons/svg/179/179386.svg' width=\"25px\"></left>\n",
    "#### You can first solve the equation and later define values of symbols, but the syntax is a bit different:\n",
    "\n",
    "First defined value:"
   ]
  },
  {
   "cell_type": "code",
   "execution_count": 26,
   "metadata": {},
   "outputs": [
    {
     "data": {
      "image/png": "[encoded data removed]",
      "text/latex": [
       "$$x + 1 = y$$"
      ],
      "text/plain": [
       "x + 1 = y"
      ]
     },
     "execution_count": 26,
     "metadata": {},
     "output_type": "execute_result"
    },
    {
     "data": {
      "image/png": "[encoded data removed]",
      "text/latex": [
       "$$\\left [ 4\\right ]$$"
      ],
      "text/plain": [
       "[4]"
      ]
     },
     "execution_count": 26,
     "metadata": {},
     "output_type": "execute_result"
    },
    {
     "data": {
      "image/png": "[encoded data removed]",
      "text/latex": [
       "$$4$$"
      ],
      "text/plain": [
       "4"
      ]
     },
     "execution_count": 26,
     "metadata": {},
     "output_type": "execute_result"
    }
   ],
   "source": [
    "x, y = symbols(\"x, y\")\n",
    "eq = Eq(x+1,y)\n",
    "eq\n",
    "solve(eq.subs(x,3),y)\n",
    "solve(eq.subs(x,3),y)[0] # solve outputs a list, here with only one element. The 0 in brackets - [0] - refers to element 0 of that list"
   ]
  },
  {
   "cell_type": "markdown",
   "metadata": {},
   "source": [
    "First solved equation:"
   ]
  },
  {
   "cell_type": "code",
   "execution_count": 27,
   "metadata": {},
   "outputs": [
    {
     "data": {
      "image/png": "[encoded data removed]",
      "text/latex": [
       "$$x + 1 = y$$"
      ],
      "text/plain": [
       "x + 1 = y"
      ]
     },
     "execution_count": 27,
     "metadata": {},
     "output_type": "execute_result"
    },
    {
     "data": {
      "image/png": "[encoded data removed]",
      "text/latex": [
       "$$\\left [ x + 1\\right ]$$"
      ],
      "text/plain": [
       "[x + 1]"
      ]
     },
     "execution_count": 27,
     "metadata": {},
     "output_type": "execute_result"
    },
    {
     "data": {
      "image/png": "[encoded data removed]",
      "text/latex": [
       "$$x + 1$$"
      ],
      "text/plain": [
       "x + 1"
      ]
     },
     "execution_count": 27,
     "metadata": {},
     "output_type": "execute_result"
    },
    {
     "data": {
      "image/png": "[encoded data removed]",
      "text/latex": [
       "$$4$$"
      ],
      "text/plain": [
       "4"
      ]
     },
     "execution_count": 27,
     "metadata": {},
     "output_type": "execute_result"
    }
   ],
   "source": [
    "eq = Eq(x+1,y)\n",
    "eq\n",
    "solve(eq,y) # this outputs a list\n",
    "solve(eq,y)[0] # this outputs first element of list, required for next step - subs() not working on lists\n",
    "solve(eq,y)[0].subs(x,3) # this assigns 3 to x"
   ]
  },
  {
   "cell_type": "markdown",
   "metadata": {},
   "source": [
    "<left><img src='https://image.flaticon.com/icons/svg/179/179386.svg' width=\"25px\"></left>\n",
    "#### Equations can be also converted from strings using <code>sympify()</code>."
   ]
  },
  {
   "cell_type": "code",
   "execution_count": 28,
   "metadata": {},
   "outputs": [
    {
     "data": {
      "image/png": "[encoded data removed]",
      "text/latex": [
       "$$x^{2} + 3 x - \\frac{1}{2}$$"
      ],
      "text/plain": [
       " 2         1\n",
       "x  + 3⋅x - ─\n",
       "           2"
      ]
     },
     "execution_count": 28,
     "metadata": {},
     "output_type": "execute_result"
    }
   ],
   "source": [
    "str_expr = \"x**2 + 3*x - 1/2\"\n",
    "expr = sympify(str_expr)\n",
    "expr"
   ]
  },
  {
   "cell_type": "markdown",
   "metadata": {},
   "source": [
    "## Equation simplification\n",
    "\n",
    "> ### <left><img src='https://image.flaticon.com/icons/svg/717/717954.svg' width=\"30px\"> Ex.4\n",
    "> #### Simplify these equations using functions <code>simplify(), expand(), factor(), collect(), cancel() </code>. What are the differences between these functions?\n",
    "> #### a) $(x-y)(\\frac{1}{x}-\\frac{1}{y})$\n",
    "> #### b) $\\frac{3x^2-3y^2}{12x-12y}$\n",
    "> #### c) $\\frac{x^3+3x^2y+3xy^2+y^3}{x^2+2xy+y^2}$\n",
    "> #### d) $(x-\\sqrt[3]{5})(x^2+\\sqrt[3]{5}x+\\sqrt[3]{25})$\n",
    "> #### e) $xz+ x^2a - x +x^2z^2+3$\n",
    "_source for pts. a & b: http://www.math-exercises.com/algebraic-expressions-and-polynomials/algebraic-fractions_"
   ]
  },
  {
   "cell_type": "code",
   "execution_count": 29,
   "metadata": {},
   "outputs": [],
   "source": [
    "a, z, x, y = symbols(\"a, z, x, y\")"
   ]
  },
  {
   "cell_type": "code",
   "execution_count": 30,
   "metadata": {},
   "outputs": [
    {
     "data": {
      "image/png": "[encoded data removed]",
      "text/latex": [
       "$$\\left(x - y\\right) \\left(- \\frac{1}{y} + \\frac{1}{x}\\right)$$"
      ],
      "text/plain": [
       "        ⎛  1   1⎞\n",
       "(x - y)⋅⎜- ─ + ─⎟\n",
       "        ⎝  y   x⎠"
      ]
     },
     "execution_count": 30,
     "metadata": {},
     "output_type": "execute_result"
    },
    {
     "data": {
      "image/png": "[encoded data removed]",
      "text/latex": [
       "$$- \\frac{\\left(x - y\\right)^{2}}{x y}$$"
      ],
      "text/plain": [
       "        2 \n",
       "-(x - y)  \n",
       "──────────\n",
       "   x⋅y    "
      ]
     },
     "execution_count": 30,
     "metadata": {},
     "output_type": "execute_result"
    },
    {
     "data": {
      "image/png": "[encoded data removed]",
      "text/latex": [
       "$$- \\frac{x}{y} + 2 - \\frac{y}{x}$$"
      ],
      "text/plain": [
       "  x       y\n",
       "- ─ + 2 - ─\n",
       "  y       x"
      ]
     },
     "execution_count": 30,
     "metadata": {},
     "output_type": "execute_result"
    },
    {
     "data": {
      "image/png": "[encoded data removed]",
      "text/latex": [
       "$$- \\frac{\\left(x - y\\right)^{2}}{x y}$$"
      ],
      "text/plain": [
       "        2 \n",
       "-(x - y)  \n",
       "──────────\n",
       "   x⋅y    "
      ]
     },
     "execution_count": 30,
     "metadata": {},
     "output_type": "execute_result"
    },
    {
     "data": {
      "image/png": "[encoded data removed]",
      "text/latex": [
       "$$\\left(x - y\\right) \\left(- \\frac{1}{y} + \\frac{1}{x}\\right)$$"
      ],
      "text/plain": [
       "        ⎛  1   1⎞\n",
       "(x - y)⋅⎜- ─ + ─⎟\n",
       "        ⎝  y   x⎠"
      ]
     },
     "execution_count": 30,
     "metadata": {},
     "output_type": "execute_result"
    },
    {
     "data": {
      "image/png": "[encoded data removed]",
      "text/latex": [
       "$$- \\frac{1}{x y} \\left(x^{2} - 2 x y + y^{2}\\right)$$"
      ],
      "text/plain": [
       " ⎛ 2            2⎞ \n",
       "-⎝x  - 2⋅x⋅y + y ⎠ \n",
       "───────────────────\n",
       "        x⋅y        "
      ]
     },
     "execution_count": 30,
     "metadata": {},
     "output_type": "execute_result"
    }
   ],
   "source": [
    "#a)\n",
    "eq = (x-y)*(1/x-1/y)\n",
    "eq\n",
    "simplify(eq)\n",
    "expand(eq)\n",
    "factor(eq)\n",
    "collect(eq,x)\n",
    "cancel(eq)"
   ]
  },
  {
   "cell_type": "code",
   "execution_count": 31,
   "metadata": {},
   "outputs": [
    {
     "data": {
      "image/png": "[encoded data removed]",
      "text/latex": [
       "$$\\frac{3 x^{2} - 3 y^{2}}{12 x - 12 y}$$"
      ],
      "text/plain": [
       "   2      2\n",
       "3⋅x  - 3⋅y \n",
       "───────────\n",
       "12⋅x - 12⋅y"
      ]
     },
     "execution_count": 31,
     "metadata": {},
     "output_type": "execute_result"
    },
    {
     "data": {
      "image/png": "[encoded data removed]",
      "text/latex": [
       "$$\\frac{x}{4} + \\frac{y}{4}$$"
      ],
      "text/plain": [
       "x   y\n",
       "─ + ─\n",
       "4   4"
      ]
     },
     "execution_count": 31,
     "metadata": {},
     "output_type": "execute_result"
    },
    {
     "data": {
      "image/png": "[encoded data removed]",
      "text/latex": [
       "$$\\frac{3 x^{2}}{12 x - 12 y} - \\frac{3 y^{2}}{12 x - 12 y}$$"
      ],
      "text/plain": [
       "       2             2   \n",
       "    3⋅x           3⋅y    \n",
       "─────────── - ───────────\n",
       "12⋅x - 12⋅y   12⋅x - 12⋅y"
      ]
     },
     "execution_count": 31,
     "metadata": {},
     "output_type": "execute_result"
    },
    {
     "data": {
      "image/png": "[encoded data removed]",
      "text/latex": [
       "$$\\frac{1}{4} \\left(x + y\\right)$$"
      ],
      "text/plain": [
       "x + y\n",
       "─────\n",
       "  4  "
      ]
     },
     "execution_count": 31,
     "metadata": {},
     "output_type": "execute_result"
    },
    {
     "data": {
      "image/png": "[encoded data removed]",
      "text/latex": [
       "$$\\frac{3 x^{2} - 3 y^{2}}{12 x - 12 y}$$"
      ],
      "text/plain": [
       "   2      2\n",
       "3⋅x  - 3⋅y \n",
       "───────────\n",
       "12⋅x - 12⋅y"
      ]
     },
     "execution_count": 31,
     "metadata": {},
     "output_type": "execute_result"
    },
    {
     "data": {
      "image/png": "[encoded data removed]",
      "text/latex": [
       "$$\\frac{x}{4} + \\frac{y}{4}$$"
      ],
      "text/plain": [
       "x   y\n",
       "─ + ─\n",
       "4   4"
      ]
     },
     "execution_count": 31,
     "metadata": {},
     "output_type": "execute_result"
    }
   ],
   "source": [
    "#b)\n",
    "eq = (3*x**2-3*y**2)/(12*x-12*y)\n",
    "eq\n",
    "simplify(eq)\n",
    "expand(eq)\n",
    "factor(eq)\n",
    "collect(eq,x)\n",
    "cancel(eq)"
   ]
  },
  {
   "cell_type": "code",
   "execution_count": 32,
   "metadata": {},
   "outputs": [
    {
     "data": {
      "image/png": "[encoded data removed]",
      "text/latex": [
       "$$\\frac{x^{3} + 3 x^{2} y + 3 x y^{2} + y^{3}}{x^{2} + 2 x y + y^{2}}$$"
      ],
      "text/plain": [
       " 3      2          2    3\n",
       "x  + 3⋅x ⋅y + 3⋅x⋅y  + y \n",
       "─────────────────────────\n",
       "      2            2     \n",
       "     x  + 2⋅x⋅y + y      "
      ]
     },
     "execution_count": 32,
     "metadata": {},
     "output_type": "execute_result"
    },
    {
     "data": {
      "image/png": "[encoded data removed]",
      "text/latex": [
       "$$x + y$$"
      ],
      "text/plain": [
       "x + y"
      ]
     },
     "execution_count": 32,
     "metadata": {},
     "output_type": "execute_result"
    },
    {
     "data": {
      "image/png": "[encoded data removed]",
      "text/latex": [
       "$$\\frac{x^{3}}{x^{2} + 2 x y + y^{2}} + \\frac{3 x^{2} y}{x^{2} + 2 x y + y^{2}} + \\frac{3 x y^{2}}{x^{2} + 2 x y + y^{2}} + \\frac{y^{3}}{x^{2} + 2 x y + y^{2}}$$"
      ],
      "text/plain": [
       "        3                 2                   2               3      \n",
       "       x               3⋅x ⋅y            3⋅x⋅y               y       \n",
       "─────────────── + ─────────────── + ─────────────── + ───────────────\n",
       " 2            2    2            2    2            2    2            2\n",
       "x  + 2⋅x⋅y + y    x  + 2⋅x⋅y + y    x  + 2⋅x⋅y + y    x  + 2⋅x⋅y + y "
      ]
     },
     "execution_count": 32,
     "metadata": {},
     "output_type": "execute_result"
    },
    {
     "data": {
      "image/png": "[encoded data removed]",
      "text/latex": [
       "$$x + y$$"
      ],
      "text/plain": [
       "x + y"
      ]
     },
     "execution_count": 32,
     "metadata": {},
     "output_type": "execute_result"
    },
    {
     "data": {
      "image/png": "[encoded data removed]",
      "text/latex": [
       "$$\\frac{x^{3} + 3 x^{2} y + 3 x y^{2} + y^{3}}{x^{2} + 2 x y + y^{2}}$$"
      ],
      "text/plain": [
       " 3      2          2    3\n",
       "x  + 3⋅x ⋅y + 3⋅x⋅y  + y \n",
       "─────────────────────────\n",
       "      2            2     \n",
       "     x  + 2⋅x⋅y + y      "
      ]
     },
     "execution_count": 32,
     "metadata": {},
     "output_type": "execute_result"
    },
    {
     "data": {
      "image/png": "[encoded data removed]",
      "text/latex": [
       "$$x + y$$"
      ],
      "text/plain": [
       "x + y"
      ]
     },
     "execution_count": 32,
     "metadata": {},
     "output_type": "execute_result"
    }
   ],
   "source": [
    "#c)\n",
    "eq = (x**3+3*x**2*y+3*x*y**2+y**3)/(x**2+2*x*y+y**2)\n",
    "eq\n",
    "simplify(eq)\n",
    "expand(eq)\n",
    "factor(eq)\n",
    "collect(eq,x)\n",
    "cancel(eq)"
   ]
  },
  {
   "cell_type": "code",
   "execution_count": 33,
   "metadata": {},
   "outputs": [
    {
     "data": {
      "image/png": "[encoded data removed]",
      "text/latex": [
       "$$\\left(x - \\sqrt[3]{5}\\right) \\left(x^{2} + \\sqrt[3]{5} x + 5^{\\frac{2}{3}}\\right)$$"
      ],
      "text/plain": [
       "⎛    3 ___⎞ ⎛ 2   3 ___      2/3⎞\n",
       "⎝x - ╲╱ 5 ⎠⋅⎝x  + ╲╱ 5 ⋅x + 5   ⎠"
      ]
     },
     "execution_count": 33,
     "metadata": {},
     "output_type": "execute_result"
    },
    {
     "data": {
      "image/png": "[encoded data removed]",
      "text/latex": [
       "$$x^{3} - 5$$"
      ],
      "text/plain": [
       " 3    \n",
       "x  - 5"
      ]
     },
     "execution_count": 33,
     "metadata": {},
     "output_type": "execute_result"
    },
    {
     "data": {
      "image/png": "[encoded data removed]",
      "text/latex": [
       "$$x^{3} - 5$$"
      ],
      "text/plain": [
       " 3    \n",
       "x  - 5"
      ]
     },
     "execution_count": 33,
     "metadata": {},
     "output_type": "execute_result"
    },
    {
     "data": {
      "image/png": "[encoded data removed]",
      "text/latex": [
       "$$\\left(x - \\sqrt[3]{5}\\right) \\left(x^{2} + \\sqrt[3]{5} x + 5^{\\frac{2}{3}}\\right)$$"
      ],
      "text/plain": [
       "⎛    3 ___⎞ ⎛ 2   3 ___      2/3⎞\n",
       "⎝x - ╲╱ 5 ⎠⋅⎝x  + ╲╱ 5 ⋅x + 5   ⎠"
      ]
     },
     "execution_count": 33,
     "metadata": {},
     "output_type": "execute_result"
    },
    {
     "data": {
      "image/png": "[encoded data removed]",
      "text/latex": [
       "$$\\left(x - \\sqrt[3]{5}\\right) \\left(x^{2} + \\sqrt[3]{5} x + 5^{\\frac{2}{3}}\\right)$$"
      ],
      "text/plain": [
       "⎛    3 ___⎞ ⎛ 2   3 ___      2/3⎞\n",
       "⎝x - ╲╱ 5 ⎠⋅⎝x  + ╲╱ 5 ⋅x + 5   ⎠"
      ]
     },
     "execution_count": 33,
     "metadata": {},
     "output_type": "execute_result"
    },
    {
     "data": {
      "image/png": "[encoded data removed]",
      "text/latex": [
       "$$x^{3} - 5$$"
      ],
      "text/plain": [
       " 3    \n",
       "x  - 5"
      ]
     },
     "execution_count": 33,
     "metadata": {},
     "output_type": "execute_result"
    }
   ],
   "source": [
    "#d)\n",
    "eq = (x-root(5,3))*(x**2+root(5,3)*x+root(25,3))\n",
    "eq\n",
    "simplify(eq)\n",
    "expand(eq)\n",
    "factor(eq)\n",
    "collect(eq,x)\n",
    "cancel(eq)"
   ]
  },
  {
   "cell_type": "code",
   "execution_count": 34,
   "metadata": {},
   "outputs": [
    {
     "data": {
      "image/png": "[encoded data removed]",
      "text/latex": [
       "$$a x^{2} + x^{2} z^{2} + x z - x + 3$$"
      ],
      "text/plain": [
       "   2    2  2              \n",
       "a⋅x  + x ⋅z  + x⋅z - x + 3"
      ]
     },
     "execution_count": 34,
     "metadata": {},
     "output_type": "execute_result"
    },
    {
     "data": {
      "image/png": "[encoded data removed]",
      "text/latex": [
       "$$a x^{2} + x^{2} z^{2} + x z - x + 3$$"
      ],
      "text/plain": [
       "   2    2  2              \n",
       "a⋅x  + x ⋅z  + x⋅z - x + 3"
      ]
     },
     "execution_count": 34,
     "metadata": {},
     "output_type": "execute_result"
    },
    {
     "data": {
      "image/png": "[encoded data removed]",
      "text/latex": [
       "$$a x^{2} + x^{2} z^{2} + x z - x + 3$$"
      ],
      "text/plain": [
       "   2    2  2              \n",
       "a⋅x  + x ⋅z  + x⋅z - x + 3"
      ]
     },
     "execution_count": 34,
     "metadata": {},
     "output_type": "execute_result"
    },
    {
     "data": {
      "image/png": "[encoded data removed]",
      "text/latex": [
       "$$a x^{2} + x^{2} z^{2} + x z - x + 3$$"
      ],
      "text/plain": [
       "   2    2  2              \n",
       "a⋅x  + x ⋅z  + x⋅z - x + 3"
      ]
     },
     "execution_count": 34,
     "metadata": {},
     "output_type": "execute_result"
    },
    {
     "data": {
      "image/png": "[encoded data removed]",
      "text/latex": [
       "$$x^{2} \\left(a + z^{2}\\right) + x \\left(z - 1\\right) + 3$$"
      ],
      "text/plain": [
       " 2 ⎛     2⎞                \n",
       "x ⋅⎝a + z ⎠ + x⋅(z - 1) + 3"
      ]
     },
     "execution_count": 34,
     "metadata": {},
     "output_type": "execute_result"
    },
    {
     "data": {
      "image/png": "[encoded data removed]",
      "text/latex": [
       "$$a x^{2} + x^{2} z^{2} + x z - x + 3$$"
      ],
      "text/plain": [
       "   2    2  2              \n",
       "a⋅x  + x ⋅z  + x⋅z - x + 3"
      ]
     },
     "execution_count": 34,
     "metadata": {},
     "output_type": "execute_result"
    }
   ],
   "source": [
    "#e)\n",
    "eq = x*z+ x**2*a - x +x**2*z**2+3\n",
    "eq\n",
    "simplify(eq)\n",
    "expand(eq)\n",
    "factor(eq)\n",
    "collect(eq,x)\n",
    "cancel(eq)"
   ]
  },
  {
   "cell_type": "markdown",
   "metadata": {},
   "source": [
    "_simplify()_ is a function that is the most general among those mentioned above. It attempts to choose the most simplified form of all - as you can see above it chooses one of the others as an output.\n",
    "\n",
    "_expand()_ is a function used to get rid of parentheses. Sometimes it makes the function more complicated, like in example c) or much simpler in d).\n",
    "\n",
    "_factor()_ is best to use for polinomials (wielomiany) and it converts them into factors (czynniki). When used on polinomials, it is actually the opposite of the _expand()_ function. In order to get a list of factors with their powers, you can use function <i>factor\\_list()</i>.\n",
    "\n",
    "_collect()_ is a function that takes two arguments - not just the equation but also a symbol which gets grouped by it's powers - like a polynomial. It is useful when dealing with many variables and you want to group them by one of them and treat the rest as parameters. \n",
    "\n",
    "_cancel()_ is used to convert function to fractions, wher the numerator and denominator have no common factors. It often gives the same output as _factor()_."
   ]
  },
  {
   "cell_type": "markdown",
   "metadata": {},
   "source": [
    "more simplification functions can be found here: https://docs.sympy.org/latest/tutorial/simplification.html"
   ]
  },
  {
   "cell_type": "code",
   "execution_count": 35,
   "metadata": {},
   "outputs": [],
   "source": [
    "del a, x, y, z"
   ]
  },
  {
   "cell_type": "markdown",
   "metadata": {},
   "source": [
    "> ### <left><img src='https://image.flaticon.com/icons/svg/717/717954.svg' width=\"30px\"> Ex.5\n",
    "> #### Solve system of equations $\\left\\{\n",
    "                \\begin{array}{ll}\n",
    "                \\frac{2(x+4)}{4}-\\frac{x+8}{3}=y+\\frac{x}{4}\\\\\n",
    "                5x-2y=-9\\\\\n",
    "                \\end{array}\n",
    "              \\right.$ using the substitution method.\n",
    "_source:_ http://www.matematykam.pl/zadania_uklady_rownan.html"
   ]
  },
  {
   "cell_type": "code",
   "execution_count": 38,
   "metadata": {},
   "outputs": [
    {
     "data": {
      "image/png": "[encoded data removed]",
      "text/latex": [
       "$$\\left ( \\frac{x}{6} - \\frac{2}{3} = \\frac{x}{4} + y, \\quad 5 x - 2 y = -9, \\quad - \\frac{x}{12} - \\frac{2}{3}\\right )$$"
      ],
      "text/plain": [
       "⎛x   2   x                        x    2⎞\n",
       "⎜─ - ─ = ─ + y, 5⋅x - 2⋅y = -9, - ── - ─⎟\n",
       "⎝6   3   4                        12   3⎠"
      ]
     },
     "execution_count": 38,
     "metadata": {},
     "output_type": "execute_result"
    },
    {
     "data": {
      "image/png": "[encoded data removed]",
      "text/latex": [
       "$$\\frac{31 x}{6} + \\frac{4}{3} = -9$$"
      ],
      "text/plain": [
       "31⋅x   4     \n",
       "──── + ─ = -9\n",
       " 6     3     "
      ]
     },
     "execution_count": 38,
     "metadata": {},
     "output_type": "execute_result"
    },
    {
     "data": {
      "image/png": "[encoded data removed]",
      "text/latex": [
       "$$\\left [ -2\\right ]$$"
      ],
      "text/plain": [
       "[-2]"
      ]
     },
     "execution_count": 38,
     "metadata": {},
     "output_type": "execute_result"
    }
   ],
   "source": [
    "x, y = symbols(\"x, y\")\n",
    "eq1 = Eq(2*(x+4)/4-(x+8)/3, y+x/4)\n",
    "eq2 = Eq(5*x-2*y,-9)\n",
    "eq1_for_y = solve(eq1,y)[0]\n",
    "eq1, eq2, eq1_for_y\n",
    "eq2 = eq2.subs(y, eq1_for_y)\n",
    "eq2\n",
    "solve(eq2)"
   ]
  },
  {
   "cell_type": "markdown",
   "metadata": {},
   "source": [
    "> ### <left><img src='https://image.flaticon.com/icons/svg/717/717954.svg' width=\"30px\"> Ex.6\n",
    "> #### Print right and left side of equation $y=x^2+2x+3$"
   ]
  },
  {
   "cell_type": "code",
   "execution_count": 37,
   "metadata": {},
   "outputs": [
    {
     "name": "stdout",
     "output_type": "stream",
     "text": [
      "right:\n"
     ]
    },
    {
     "data": {
      "image/png": "[encoded data removed]",
      "text/latex": [
       "$$x^{2} + 2 x + 3$$"
      ],
      "text/plain": [
       " 2          \n",
       "x  + 2⋅x + 3"
      ]
     },
     "execution_count": 37,
     "metadata": {},
     "output_type": "execute_result"
    },
    {
     "name": "stdout",
     "output_type": "stream",
     "text": [
      "left:\n"
     ]
    },
    {
     "data": {
      "image/png": "[encoded data removed]",
      "text/latex": [
       "$$y$$"
      ],
      "text/plain": [
       "y"
      ]
     },
     "execution_count": 37,
     "metadata": {},
     "output_type": "execute_result"
    }
   ],
   "source": [
    "x, y = symbols(\"x, y\")\n",
    "eq = Eq(y,x**2+2*x+3)\n",
    "print('right:')\n",
    "eq.rhs\n",
    "print('left:')\n",
    "eq.lhs"
   ]
  },
  {
   "cell_type": "markdown",
   "metadata": {},
   "source": [
    "> ### <left><img src='https://image.flaticon.com/icons/svg/717/717954.svg' width=\"30px\"> Ex.7\n",
    "> #### Translate maxima code below:\n",
    ">\n",
    "></br><code>\n",
    "f2(x):=[c=x^a]\\$</br>\n",
    "b:[\"tekst\",''f2(x)]$</br>\n",
    "d:[[10,\"text\"],b];</br></br>\n",
    "d[2];</br>\n",
    "\\%[2];</br>\n",
    "\\%[1];</code>\n",
    ">\n",
    "> #### It's goal is to extract the equation c = x ^ 3 from list d. "
   ]
  },
  {
   "cell_type": "code",
   "execution_count": 38,
   "metadata": {},
   "outputs": [
    {
     "data": {
      "image/png": "[encoded data removed]",
      "text/latex": [
       "$$c = x^{a}$$"
      ],
      "text/plain": [
       "     a\n",
       "c = x "
      ]
     },
     "execution_count": 38,
     "metadata": {},
     "output_type": "execute_result"
    },
    {
     "data": {
      "text/plain": [
       "['tekst', Eq(c, x**a)]"
      ]
     },
     "execution_count": 38,
     "metadata": {},
     "output_type": "execute_result"
    },
    {
     "data": {
      "text/plain": [
       "[[10, 'text'], ['tekst', Eq(c, x**a)]]"
      ]
     },
     "execution_count": 38,
     "metadata": {},
     "output_type": "execute_result"
    },
    {
     "data": {
      "text/plain": [
       "['tekst', Eq(c, x**a)]"
      ]
     },
     "execution_count": 38,
     "metadata": {},
     "output_type": "execute_result"
    },
    {
     "data": {
      "image/png": "[encoded data removed]",
      "text/latex": [
       "$$c = x^{a}$$"
      ],
      "text/plain": [
       "     a\n",
       "c = x "
      ]
     },
     "execution_count": 38,
     "metadata": {},
     "output_type": "execute_result"
    }
   ],
   "source": [
    "# f2(x):=[c=x^a]$\n",
    "\n",
    "def f2(x):\n",
    "    c, a = symbols(\"c, a\")\n",
    "    return Eq(c,x**a)\n",
    "f2(x)\n",
    "\n",
    "# b:[\"tekst\",''f2(x)]$\n",
    "\n",
    "b = [\"tekst\", f2(x)]\n",
    "b\n",
    "\n",
    "# d:[[10,\"text\"],b];\n",
    "\n",
    "d = [[10, \"text\"], b]\n",
    "d\n",
    "\n",
    "#  d[2];\n",
    "d[1] #in python elements of lists are counted from 0\n",
    "\n",
    "# %[2];\n",
    "d[1][1] # this already produces desired output, equation is not in list\n",
    "\n",
    "# %[1];\n",
    "#not required in python, output of Eq() isn't a list"
   ]
  },
  {
   "cell_type": "markdown",
   "metadata": {},
   "source": [
    "> ### <left><img src='https://image.flaticon.com/icons/svg/717/717954.svg' width=\"30px\"> Ex.8\n",
    "    > #### Determine the difference between <code>solve()</code>, <code>solveset()</code> and <code>nonlinsolve()</code>."
   ]
  },
  {
   "cell_type": "code",
   "execution_count": 96,
   "metadata": {},
   "outputs": [
    {
     "data": {
      "image/png": "[encoded data removed]",
      "text/latex": [
       "$$\\left [ 0, \\quad \\frac{2}{3}\\right ]$$"
      ],
      "text/plain": [
       "[0, 2/3]"
      ]
     },
     "execution_count": 96,
     "metadata": {},
     "output_type": "execute_result"
    },
    {
     "data": {
      "image/png": "[encoded data removed]",
      "text/latex": [
       "$$\\left\\{0, \\frac{2}{3}\\right\\}$$"
      ],
      "text/plain": [
       "{0, 2/3}"
      ]
     },
     "execution_count": 96,
     "metadata": {},
     "output_type": "execute_result"
    },
    {
     "data": {
      "image/png": "[encoded data removed]",
      "text/latex": [
       "$$\\left\\{\\left ( 0\\right ), \\left ( \\frac{2}{3}\\right )\\right\\}$$"
      ],
      "text/plain": [
       "{(0,), (2/3,)}"
      ]
     },
     "execution_count": 96,
     "metadata": {},
     "output_type": "execute_result"
    }
   ],
   "source": [
    "w, x, y, z = symbols(\"w, x, y, z\", real=True)\n",
    "\n",
    "eq = Eq(2*x-3*x**2, 0)\n",
    "solve(eq)\n",
    "solveset(eq)\n",
    "nonlinsolve([eq], [x])"
   ]
  },
  {
   "cell_type": "markdown",
   "metadata": {},
   "source": [
    "<left><img src='https://image.flaticon.com/icons/svg/179/179386.svg' width=\"25px\"></left>\n",
    "#### Functions <code>solve(), nonlinsolve()</code> can also be used to solve systems of equations."
   ]
  },
  {
   "cell_type": "code",
   "execution_count": 41,
   "metadata": {},
   "outputs": [
    {
     "data": {
      "image/png": "[encoded data removed]",
      "text/latex": [
       "$$\\left [ \\left ( 4.0, \\quad 2.0\\right )\\right ]$$"
      ],
      "text/plain": [
       "[(4.0, 2.0)]"
      ]
     },
     "execution_count": 41,
     "metadata": {},
     "output_type": "execute_result"
    },
    {
     "data": {
      "image/png": "[encoded data removed]",
      "text/latex": [
       "$$\\left\\{\\left ( 4, \\quad 2\\right )\\right\\}$$"
      ],
      "text/plain": [
       "{(4, 2)}"
      ]
     },
     "execution_count": 41,
     "metadata": {},
     "output_type": "execute_result"
    }
   ],
   "source": [
    "w, x, y, z = symbols(\"w, x, y, z\", real=True)\n",
    "eq1 = Eq(x+y, 6)\n",
    "eq2 = Eq(x*y, 8)\n",
    "eq3 = Eq(x/y, 2.0)\n",
    "solve([eq1, eq2, eq3], [x,y])\n",
    "nonlinsolve([eq1, eq2, eq3], [x,y])"
   ]
  }
 ],
 "metadata": {
  "kernelspec": {
   "display_name": "Python 3",
   "language": "python",
   "name": "python3"
  },
  "language_info": {
   "codemirror_mode": {
    "name": "ipython",
    "version": 3
   },
   "file_extension": ".py",
   "mimetype": "text/x-python",
   "name": "python",
   "nbconvert_exporter": "python",
   "pygments_lexer": "ipython3",
   "version": "3.7.0"
  }
 },
 "nbformat": 4,
 "nbformat_minor": 2
}
