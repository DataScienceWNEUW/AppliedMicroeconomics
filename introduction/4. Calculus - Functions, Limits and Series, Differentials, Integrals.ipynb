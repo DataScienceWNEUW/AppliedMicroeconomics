{
 "cells": [
  {
   "cell_type": "markdown",
   "metadata": {},
   "source": [
    "# Calculus\n",
    "First, as in every new kernel, you should start with setting up the environment, as explained in the first part."
   ]
  },
  {
   "cell_type": "code",
   "execution_count": 1,
   "metadata": {},
   "outputs": [],
   "source": [
    "from sympy import *\n",
    "from IPython.core.interactiveshell import InteractiveShell #print all elements, not only last one\n",
    "InteractiveShell.ast_node_interactivity = \"all\"\n",
    "init_printing(use_unicode=True)"
   ]
  },
  {
   "cell_type": "markdown",
   "metadata": {},
   "source": [
    "## Functions\n",
    "\n",
    "> ### <left><img src='https://image.flaticon.com/icons/svg/717/717954.svg' width=\"30px\"></left> Ex.1\n",
    "> #### Define function as a symbol, as a variable and as a python function. What are the differences in using these differnt types of functions?"
   ]
  },
  {
   "cell_type": "code",
   "execution_count": 2,
   "metadata": {},
   "outputs": [],
   "source": [
    "# as a symbol, three ways\n",
    "x, y, z = symbols ('x, y, z')\n",
    "f = symbols('f', cls=Function)\n",
    "g = symbols('g', cls=Function)(x)\n",
    "h = symbols('h', cls=Function)(x,y,z)"
   ]
  },
  {
   "cell_type": "code",
   "execution_count": 3,
   "metadata": {},
   "outputs": [
    {
     "data": {
      "image/png": "[encoded data removed]",
      "text/latex": [
       "$$f{\\left (x \\right )}$$"
      ],
      "text/plain": [
       "f(x)"
      ]
     },
     "execution_count": 3,
     "metadata": {},
     "output_type": "execute_result"
    },
    {
     "data": {
      "image/png": "[encoded data removed]",
      "text/latex": [
       "$$g{\\left (x \\right )}$$"
      ],
      "text/plain": [
       "g(x)"
      ]
     },
     "execution_count": 3,
     "metadata": {},
     "output_type": "execute_result"
    },
    {
     "data": {
      "image/png": "[encoded data removed]",
      "text/latex": [
       "$$h{\\left (x,y,z \\right )}$$"
      ],
      "text/plain": [
       "h(x, y, z)"
      ]
     },
     "execution_count": 3,
     "metadata": {},
     "output_type": "execute_result"
    }
   ],
   "source": [
    "f(x)\n",
    "g\n",
    "h"
   ]
  },
  {
   "cell_type": "code",
   "execution_count": 4,
   "metadata": {},
   "outputs": [],
   "source": [
    "del f, g, h"
   ]
  },
  {
   "cell_type": "code",
   "execution_count": 5,
   "metadata": {},
   "outputs": [
    {
     "data": {
      "image/png": "[encoded data removed]",
      "text/latex": [
       "$$g{\\left (x \\right )} = x^{2} + 1$$"
      ],
      "text/plain": [
       "        2    \n",
       "g(x) = x  + 1"
      ]
     },
     "execution_count": 5,
     "metadata": {},
     "output_type": "execute_result"
    },
    {
     "data": {
      "image/png": "[encoded data removed]",
      "text/latex": [
       "$$g{\\left (x \\right )}$$"
      ],
      "text/plain": [
       "g(x)"
      ]
     },
     "execution_count": 5,
     "metadata": {},
     "output_type": "execute_result"
    }
   ],
   "source": [
    "# when assigning function to g, it is trated as an equation. g is still only a symbol representing that function\n",
    "# function g is not callable!!!\n",
    "g = symbols('g', cls=Function)(x)\n",
    "eq1 = Eq(g,x**2+1)\n",
    "eq1\n",
    "g"
   ]
  },
  {
   "cell_type": "code",
   "execution_count": 6,
   "metadata": {},
   "outputs": [
    {
     "data": {
      "image/png": "[encoded data removed]",
      "text/latex": [
       "$$g{\\left (2 y + 3 \\right )} = \\left(2 y + 3\\right)^{2} + 1$$"
      ],
      "text/plain": [
       "                      2    \n",
       "g(2⋅y + 3) = (2⋅y + 3)  + 1"
      ]
     },
     "execution_count": 6,
     "metadata": {},
     "output_type": "execute_result"
    },
    {
     "data": {
      "image/png": "[encoded data removed]",
      "text/latex": [
       "$$g{\\left (2 \\right )} = 5$$"
      ],
      "text/plain": [
       "g(2) = 5"
      ]
     },
     "execution_count": 6,
     "metadata": {},
     "output_type": "execute_result"
    }
   ],
   "source": [
    "# to change value of x one can use subs()\n",
    "eq1.subs(x,2*y+3)\n",
    "eq1.subs(x,2)"
   ]
  },
  {
   "cell_type": "code",
   "execution_count": 7,
   "metadata": {},
   "outputs": [
    {
     "data": {
      "image/png": "[encoded data removed]",
      "text/latex": [
       "$$x^{2} + 1$$"
      ],
      "text/plain": [
       " 2    \n",
       "x  + 1"
      ]
     },
     "execution_count": 7,
     "metadata": {},
     "output_type": "execute_result"
    },
    {
     "data": {
      "image/png": "[encoded data removed]",
      "text/latex": [
       "$$\\left(2 y + 3\\right)^{2} + 1$$"
      ],
      "text/plain": [
       "         2    \n",
       "(2⋅y + 3)  + 1"
      ]
     },
     "execution_count": 7,
     "metadata": {},
     "output_type": "execute_result"
    },
    {
     "data": {
      "image/png": "[encoded data removed]",
      "text/latex": [
       "$$5$$"
      ],
      "text/plain": [
       "5"
      ]
     },
     "execution_count": 7,
     "metadata": {},
     "output_type": "execute_result"
    }
   ],
   "source": [
    "# as a variable, it can be called later on\n",
    "h = x**2+1\n",
    "h\n",
    "h.subs(x,2*y+3)\n",
    "h.subs(x,2)"
   ]
  },
  {
   "cell_type": "code",
   "execution_count": 8,
   "metadata": {},
   "outputs": [
    {
     "data": {
      "image/png": "[encoded data removed]",
      "text/latex": [
       "$$x^{2} + 1$$"
      ],
      "text/plain": [
       " 2    \n",
       "x  + 1"
      ]
     },
     "execution_count": 8,
     "metadata": {},
     "output_type": "execute_result"
    },
    {
     "data": {
      "image/png": "[encoded data removed]",
      "text/latex": [
       "$$\\left(2 y + 3\\right)^{2} + 1$$"
      ],
      "text/plain": [
       "         2    \n",
       "(2⋅y + 3)  + 1"
      ]
     },
     "execution_count": 8,
     "metadata": {},
     "output_type": "execute_result"
    },
    {
     "data": {
      "image/png": "[encoded data removed]",
      "text/latex": [
       "$$5$$"
      ],
      "text/plain": [
       "5"
      ]
     },
     "execution_count": 8,
     "metadata": {},
     "output_type": "execute_result"
    }
   ],
   "source": [
    "# as a python function\n",
    "def f(x):\n",
    "    return x**2+1\n",
    "\n",
    "f(x)\n",
    "f(2*y+3)\n",
    "f(2)"
   ]
  },
  {
   "cell_type": "markdown",
   "metadata": {},
   "source": [
    "## Series calculation\n",
    "> ### <left><img src='https://image.flaticon.com/icons/svg/717/717954.svg' width=\"30px\"></left> Ex.2\n",
    "> #### Calculate sums of series below:\n",
    ">   $$ \\sum\\limits_{i=1}^\\infty \\frac {1} {n(n+1)} $$\n",
    ">   $$ \\sum\\limits_{i=1}^\\infty log( \\frac {n}{n+1})  $$"
   ]
  },
  {
   "cell_type": "code",
   "execution_count": 9,
   "metadata": {},
   "outputs": [
    {
     "data": {
      "image/png": "[encoded data removed]",
      "text/latex": [
       "$$1$$"
      ],
      "text/plain": [
       "1"
      ]
     },
     "execution_count": 9,
     "metadata": {},
     "output_type": "execute_result"
    },
    {
     "data": {
      "image/png": "[encoded data removed]",
      "text/latex": [
       "$$\\infty$$"
      ],
      "text/plain": [
       "∞"
      ]
     },
     "execution_count": 9,
     "metadata": {},
     "output_type": "execute_result"
    }
   ],
   "source": [
    "n, m, x = symbols('n, m, x')\n",
    "\n",
    "summation(1/(n*(n+1)),(n,1,oo))\n",
    "summation(log(n/n+1),(n,1,oo))"
   ]
  },
  {
   "cell_type": "markdown",
   "metadata": {},
   "source": [
    "## Limits\n",
    "> ### <left><img src='https://image.flaticon.com/icons/svg/717/717954.svg' width=\"30px\"></left> Ex.3\n",
    "> #### Calculate limits using _limit()_ function.\n",
    "\n",
    "_source:_ https://obliczone.pl/zadania/funkcje/granice-funkcji"
   ]
  },
  {
   "cell_type": "code",
   "execution_count": 10,
   "metadata": {},
   "outputs": [
    {
     "data": {
      "image/png": "[encoded data removed]",
      "text/latex": [
       "$$\\infty$$"
      ],
      "text/plain": [
       "∞"
      ]
     },
     "execution_count": 10,
     "metadata": {},
     "output_type": "execute_result"
    },
    {
     "data": {
      "image/png": "[encoded data removed]",
      "text/latex": [
       "$$1$$"
      ],
      "text/plain": [
       "1"
      ]
     },
     "execution_count": 10,
     "metadata": {},
     "output_type": "execute_result"
    },
    {
     "data": {
      "image/png": "[encoded data removed]",
      "text/latex": [
       "$$0$$"
      ],
      "text/plain": [
       "0"
      ]
     },
     "execution_count": 10,
     "metadata": {},
     "output_type": "execute_result"
    }
   ],
   "source": [
    "limit(sin(x)+1/x**2, x, 0)\n",
    "limit(sin(x)/x, x, 0)\n",
    "limit(sin(x)/sqrt(x), x, 0, dir='+') # right hand limit"
   ]
  },
  {
   "cell_type": "markdown",
   "metadata": {},
   "source": [
    "## Derivatives\n",
    "> ### <left><img src='https://image.flaticon.com/icons/svg/717/717954.svg' width=\"30px\"></left> Ex.3\n",
    "> #### Calculate derivative of expression: $ x^y + 2xyz - xy^{yz} - y^y + e^{xyz} $ with diferent combinations. Use multiple derivatives. Use _.diff()_, _Derivative()_ and _.doit()_."
   ]
  },
  {
   "cell_type": "code",
   "execution_count": 11,
   "metadata": {},
   "outputs": [],
   "source": [
    "x,y,z = symbols(\"x,y,z\")"
   ]
  },
  {
   "cell_type": "code",
   "execution_count": 12,
   "metadata": {},
   "outputs": [
    {
     "data": {
      "image/png": "[encoded data removed]",
      "text/latex": [
       "$$2 x y z - x y^{y} z + x^{y} - y^{y} + e^{x y z}$$"
      ],
      "text/plain": [
       "             y      y    y    x⋅y⋅z\n",
       "2⋅x⋅y⋅z - x⋅y ⋅z + x  - y  + ℯ     "
      ]
     },
     "execution_count": 12,
     "metadata": {},
     "output_type": "execute_result"
    }
   ],
   "source": [
    "expr = x**y + 2*x*y*z - x*y**y*z - y**y + exp(x*y*z)\n",
    "expr"
   ]
  },
  {
   "cell_type": "code",
   "execution_count": 13,
   "metadata": {},
   "outputs": [
    {
     "data": {
      "image/png": "[encoded data removed]",
      "text/latex": [
       "$$y z e^{x y z} + 2 y z - y^{y} z + \\frac{x^{y} y}{x}$$"
      ],
      "text/plain": [
       "                             y  \n",
       "     x⋅y⋅z            y     x ⋅y\n",
       "y⋅z⋅ℯ      + 2⋅y⋅z - y ⋅z + ────\n",
       "                             x  "
      ]
     },
     "execution_count": 13,
     "metadata": {},
     "output_type": "execute_result"
    },
    {
     "data": {
      "image/png": "[encoded data removed]",
      "text/latex": [
       "$$- x y^{y} z \\left(\\log{\\left (y \\right )} + 1\\right) + x z e^{x y z} + 2 x z + x^{y} \\log{\\left (x \\right )} - y^{y} \\left(\\log{\\left (y \\right )} + 1\\right)$$"
      ],
      "text/plain": [
       "     y                       x⋅y⋅z            y           y             \n",
       "- x⋅y ⋅z⋅(log(y) + 1) + x⋅z⋅ℯ      + 2⋅x⋅z + x ⋅log(x) - y ⋅(log(y) + 1)"
      ]
     },
     "execution_count": 13,
     "metadata": {},
     "output_type": "execute_result"
    },
    {
     "data": {
      "image/png": "[encoded data removed]",
      "text/latex": [
       "$$x y e^{x y z} + 2 x y - x y^{y}$$"
      ],
      "text/plain": [
       "     x⋅y⋅z              y\n",
       "x⋅y⋅ℯ      + 2⋅x⋅y - x⋅y "
      ]
     },
     "execution_count": 13,
     "metadata": {},
     "output_type": "execute_result"
    }
   ],
   "source": [
    "expr.diff(x)\n",
    "expr.diff(y)\n",
    "expr.diff(z)"
   ]
  },
  {
   "cell_type": "code",
   "execution_count": 14,
   "metadata": {},
   "outputs": [
    {
     "data": {
      "image/png": "[encoded data removed]",
      "text/latex": [
       "$$x y^{2} z e^{x y z} + y e^{x y z} + 2 y - y^{y}$$"
      ],
      "text/plain": [
       "   2    x⋅y⋅z      x⋅y⋅z          y\n",
       "x⋅y ⋅z⋅ℯ      + y⋅ℯ      + 2⋅y - y "
      ]
     },
     "execution_count": 14,
     "metadata": {},
     "output_type": "execute_result"
    },
    {
     "data": {
      "image/png": "[encoded data removed]",
      "text/latex": [
       "$$x y^{2} z e^{x y z} + y e^{x y z} + 2 y - y^{y}$$"
      ],
      "text/plain": [
       "   2    x⋅y⋅z      x⋅y⋅z          y\n",
       "x⋅y ⋅z⋅ℯ      + y⋅ℯ      + 2⋅y - y "
      ]
     },
     "execution_count": 14,
     "metadata": {},
     "output_type": "execute_result"
    }
   ],
   "source": [
    "#this gives the same result\n",
    "expr.diff(x,z)\n",
    "expr.diff(x).diff(z)"
   ]
  },
  {
   "cell_type": "code",
   "execution_count": 15,
   "metadata": {},
   "outputs": [
    {
     "data": {
      "image/png": "[encoded data removed]",
      "text/latex": [
       "$$\\frac{\\partial^{4}}{\\partial x\\partial z^{2}\\partial x} \\left(2 x y z - x y^{y} z + x^{y} - y^{y} + e^{x y z}\\right)$$"
      ],
      "text/plain": [
       "     4                                        \n",
       "    ∂    ⎛             y      y    y    x⋅y⋅z⎞\n",
       "─────────⎝2⋅x⋅y⋅z - x⋅y ⋅z + x  - y  + ℯ     ⎠\n",
       "     2                                        \n",
       "∂x ∂z  ∂x                                     "
      ]
     },
     "execution_count": 15,
     "metadata": {},
     "output_type": "execute_result"
    },
    {
     "data": {
      "image/png": "[encoded data removed]",
      "text/latex": [
       "$$y^{2} \\left(x^{2} y^{2} z^{2} + 4 x y z + 2\\right) e^{x y z}$$"
      ],
      "text/plain": [
       " 2 ⎛ 2  2  2              ⎞  x⋅y⋅z\n",
       "y ⋅⎝x ⋅y ⋅z  + 4⋅x⋅y⋅z + 2⎠⋅ℯ     "
      ]
     },
     "execution_count": 15,
     "metadata": {},
     "output_type": "execute_result"
    },
    {
     "data": {
      "text/plain": [
       "True"
      ]
     },
     "execution_count": 15,
     "metadata": {},
     "output_type": "execute_result"
    }
   ],
   "source": [
    "#there is another way to calculate derivatives\n",
    "deriv = Derivative(expr, x,z,z,x)\n",
    "deriv # only applies derivative without calculation\n",
    "deriv.doit() #performs the differentiation\n",
    "deriv.doit() == expr.diff(x,z,z,x)"
   ]
  },
  {
   "cell_type": "markdown",
   "metadata": {},
   "source": [
    "#### <left><img src='https://image.flaticon.com/icons/svg/179/179386.svg' width=\"25px\"></left> Difference between functions and their integrals - based on different function types from above"
   ]
  },
  {
   "cell_type": "code",
   "execution_count": 16,
   "metadata": {},
   "outputs": [
    {
     "data": {
      "image/png": "[encoded data removed]",
      "text/latex": [
       "$$2 x$$"
      ],
      "text/plain": [
       "2⋅x"
      ]
     },
     "execution_count": 16,
     "metadata": {},
     "output_type": "execute_result"
    },
    {
     "data": {
      "image/png": "[encoded data removed]",
      "text/latex": [
       "$$\\frac{d}{d x} g{\\left (x \\right )}$$"
      ],
      "text/plain": [
       "d       \n",
       "──(g(x))\n",
       "dx      "
      ]
     },
     "execution_count": 16,
     "metadata": {},
     "output_type": "execute_result"
    },
    {
     "data": {
      "image/png": "[encoded data removed]",
      "text/latex": [
       "$$2 x$$"
      ],
      "text/plain": [
       "2⋅x"
      ]
     },
     "execution_count": 16,
     "metadata": {},
     "output_type": "execute_result"
    }
   ],
   "source": [
    "def f(x):\n",
    "    return x**2+1\n",
    "g = symbols('g', cls=Function)(x)\n",
    "h = x**2+1\n",
    "\n",
    "f(x).diff(x)\n",
    "g.diff(x)\n",
    "h.diff(x)"
   ]
  },
  {
   "cell_type": "markdown",
   "metadata": {},
   "source": [
    "## Integrals\n",
    "> ### <left><img src='https://image.flaticon.com/icons/svg/717/717954.svg' width=\"30px\"></left> Ex.3\n",
    "> #### Find integrals of expressions and show difference between _Integral_ and _integrate()_."
   ]
  },
  {
   "cell_type": "markdown",
   "metadata": {},
   "source": [
    "$$ \\int 2x+10 dx $$"
   ]
  },
  {
   "cell_type": "code",
   "execution_count": 17,
   "metadata": {},
   "outputs": [
    {
     "data": {
      "image/png": "[encoded data removed]",
      "text/latex": [
       "$$\\int \\left(2 x + 10\\right)\\, dx$$"
      ],
      "text/plain": [
       "⌠              \n",
       "⎮ (2⋅x + 10) dx\n",
       "⌡              "
      ]
     },
     "execution_count": 17,
     "metadata": {},
     "output_type": "execute_result"
    },
    {
     "data": {
      "image/png": "[encoded data removed]",
      "text/latex": [
       "$$x^{2} + 10 x$$"
      ],
      "text/plain": [
       " 2       \n",
       "x  + 10⋅x"
      ]
     },
     "execution_count": 17,
     "metadata": {},
     "output_type": "execute_result"
    },
    {
     "data": {
      "image/png": "[encoded data removed]",
      "text/latex": [
       "$$x^{2} + 10 x$$"
      ],
      "text/plain": [
       " 2       \n",
       "x  + 10⋅x"
      ]
     },
     "execution_count": 17,
     "metadata": {},
     "output_type": "execute_result"
    },
    {
     "data": {
      "text/plain": [
       "True"
      ]
     },
     "execution_count": 17,
     "metadata": {},
     "output_type": "execute_result"
    }
   ],
   "source": [
    "expr = 2*x + 10\n",
    "Integral(expr,x)\n",
    "Integral(expr,x).doit()\n",
    "integrate(expr,x)\n",
    "Integral(expr,x).doit() == integrate(expr,x)"
   ]
  },
  {
   "cell_type": "markdown",
   "metadata": {},
   "source": [
    "$$ \\int e^{2x} dx $$"
   ]
  },
  {
   "cell_type": "code",
   "execution_count": 18,
   "metadata": {},
   "outputs": [
    {
     "data": {
      "image/png": "[encoded data removed]",
      "text/latex": [
       "$$\\frac{e^{2 x}}{2}$$"
      ],
      "text/plain": [
       " 2⋅x\n",
       "ℯ   \n",
       "────\n",
       " 2  "
      ]
     },
     "execution_count": 18,
     "metadata": {},
     "output_type": "execute_result"
    }
   ],
   "source": [
    "expr = exp(2*x)\n",
    "integrate(expr)"
   ]
  },
  {
   "cell_type": "markdown",
   "metadata": {},
   "source": [
    "$$ \\int_{0}^{4} \\sqrt{x+y} dx $$"
   ]
  },
  {
   "cell_type": "code",
   "execution_count": 19,
   "metadata": {},
   "outputs": [
    {
     "data": {
      "image/png": "[encoded data removed]",
      "text/latex": [
       "$$- \\frac{2 y^{\\frac{3}{2}}}{3} + \\frac{2}{3} \\left(y + 4\\right)^{\\frac{3}{2}}$$"
      ],
      "text/plain": [
       "     3/2            3/2\n",
       "  2⋅y      2⋅(y + 4)   \n",
       "- ────── + ────────────\n",
       "    3           3      "
      ]
     },
     "execution_count": 19,
     "metadata": {},
     "output_type": "execute_result"
    }
   ],
   "source": [
    "integrate(sqrt(x+y),(x,0,4))"
   ]
  },
  {
   "cell_type": "markdown",
   "metadata": {},
   "source": [
    "$$ \\int_{0}^{5} \\int_{0}^{4} \\sqrt{x+y} dx dy$$"
   ]
  },
  {
   "cell_type": "code",
   "execution_count": 20,
   "metadata": {},
   "outputs": [
    {
     "data": {
      "image/png": "[encoded data removed]",
      "text/latex": [
       "$$- \\frac{20 \\sqrt{5}}{3} + \\frac{844}{15}$$"
      ],
      "text/plain": [
       "  20⋅√5   844\n",
       "- ───── + ───\n",
       "    3      15"
      ]
     },
     "execution_count": 20,
     "metadata": {},
     "output_type": "execute_result"
    }
   ],
   "source": [
    "integrate(integrate(sqrt(x+y),(x,0,4)),(y,0,5))"
   ]
  },
  {
   "cell_type": "markdown",
   "metadata": {},
   "source": [
    "$$ \\int_{0}^{4} x^3 \\sqrt{x^2+9} dx $$"
   ]
  },
  {
   "cell_type": "code",
   "execution_count": 24,
   "metadata": {},
   "outputs": [
    {
     "data": {
      "image/png": "[encoded data removed]",
      "text/latex": [
       "$$\\frac{1412}{5}$$"
      ],
      "text/plain": [
       "1412/5"
      ]
     },
     "execution_count": 24,
     "metadata": {},
     "output_type": "execute_result"
    }
   ],
   "source": [
    "expr = x**3*sqrt(x**2+9)\n",
    "integrate(expr,(x,0,4))"
   ]
  },
  {
   "cell_type": "markdown",
   "metadata": {},
   "source": [
    "_source:_ https://obliczone.pl/zadania/ca%C5%82ki/ca%C5%82ki-podw%C3%B3jne"
   ]
  },
  {
   "cell_type": "markdown",
   "metadata": {},
   "source": [
    "$$ \\int_{0}^{2} \\int_{x}^{x^2} xy^2 dy dx $$"
   ]
  },
  {
   "cell_type": "code",
   "execution_count": 25,
   "metadata": {},
   "outputs": [
    {
     "data": {
      "image/png": "[encoded data removed]",
      "text/latex": [
       "$$- \\frac{128}{15}$$"
      ],
      "text/plain": [
       "-128 \n",
       "─────\n",
       "  15 "
      ]
     },
     "execution_count": 25,
     "metadata": {},
     "output_type": "execute_result"
    }
   ],
   "source": [
    "expr = y**2*x\n",
    "integrate(integrate(expr,(y,x**2,x)),(x,0,2))"
   ]
  },
  {
   "cell_type": "markdown",
   "metadata": {},
   "source": [
    "$$ \\int \\int_{2x}^{x^2} 4x + 2 dy dx $$"
   ]
  },
  {
   "cell_type": "code",
   "execution_count": 26,
   "metadata": {},
   "outputs": [
    {
     "data": {
      "image/png": "[encoded data removed]",
      "text/latex": [
       "$$x^{4} - 2 x^{3} - 2 x^{2}$$"
      ],
      "text/plain": [
       " 4      3      2\n",
       "x  - 2⋅x  - 2⋅x "
      ]
     },
     "execution_count": 26,
     "metadata": {},
     "output_type": "execute_result"
    }
   ],
   "source": [
    "expr = 4*x+2\n",
    "integrate(integrate(expr,(y,2*x,x**2)),x)"
   ]
  }
 ],
 "metadata": {
  "kernelspec": {
   "display_name": "Python 3",
   "language": "python",
   "name": "python3"
  },
  "language_info": {
   "codemirror_mode": {
    "name": "ipython",
    "version": 3
   },
   "file_extension": ".py",
   "mimetype": "text/x-python",
   "name": "python",
   "nbconvert_exporter": "python",
   "pygments_lexer": "ipython3",
   "version": "3.7.0"
  }
 },
 "nbformat": 4,
 "nbformat_minor": 2
}
