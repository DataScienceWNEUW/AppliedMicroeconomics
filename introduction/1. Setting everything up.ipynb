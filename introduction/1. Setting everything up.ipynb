{
 "cells": [
  {
   "cell_type": "markdown",
   "metadata": {},
   "source": [
    "# Introduction to Symbolic Computations in Python\n",
    "\n",
    "**This tutorial assumes basic knowledge of python datatypes and operations made on them: strings, integers, floats, boolean, lists, sets, tuples, dictionaries.**\n",
    "\n",
    "Sources useful to read before this tutorial:\n",
    "- strings, ints, floats, booleans: https://realpython.com/python-data-types/\n",
    "- lists, tuples, dictionaries: https://data-flair.training/blogs/python-data-structures-tutorial/\n",
    "- sets: https://thomas-cokelaer.info/tutorials/python/sets.html\n",
    "\n",
    "## Useful keyboard shortcuts\n",
    "- ESC - escape cell edit mode (deactivate cell)\n",
    "- ENTER - enter cell edit mode (activate cell)\n",
    "- SHIFT + ENTER - execute cell and procede to next cell\n",
    "- CTRL + ENTER - execute cell and don't procede to next cell\n",
    "\n",
    "### Out of cell edit mode:\n",
    "- A - add cell above\n",
    "- B - add cell below\n",
    "- D - clicked two times, delete cell\n",
    "- X - cut cell\n",
    "- C - copy cell\n",
    "- V - paste cell\n",
    "- M - change cell type to markdown\n",
    "- Y - change cell type to code\n",
    "- R - change cell type to raw (plain text)\n",
    "\n",
    "### Useful info:\n",
    "- you can access most important functions through panels below: save kernel (file), add cell, cut cell, copy cell, paste cell, move cell up/down (only in notebook), run kernel, stop running kernel, restart kernel, dropdown with cell type options\n",
    "\n",
    "jupyter lab:\n",
    "\n",
    "<right><img src='jupyter tools.png' width=\"400px\">\n",
    "\n",
    "jupyter notebook:\n",
    "\n",
    "<img src='lab tools.png' width=\"600px\"></right>\n",
    "\n",
    "- restarting kernel is necessary if python calculates an infinite loop. To see how it works change cell type below to code:"
   ]
  },
  {
   "cell_type": "raw",
   "metadata": {},
   "source": [
    "while True:\n",
    "    x+=1\n",
    "    print(1)"
   ]
  },
  {
   "cell_type": "markdown",
   "metadata": {},
   "source": [
    "- you can see how to format markdown by double clicking on this text, it will show you the unformatted text\n",
    "- more tips on how to use jupyter notebook: https://www.dataquest.io/blog/jupyter-notebook-tutorial/\n",
    "- how jupyter lab differs from jupyter notebook: https://stackoverflow.com/questions/50982686/what-is-the-difference-between-jupyter-nootbook-and-jupyter-lab\n",
    "- more tips on how to write in markdown and LaTeX:\n",
    "    - https://medium.com/ibm-data-science-experience/markdown-for-jupyter-notebooks-cheatsheet-386c05aeebed\n",
    "    - https://jupyter-notebook.readthedocs.io/en/stable/examples/Notebook/Working%20With%20Markdown%20Cells.html\n",
    "    \n",
    "## Setting up SymPy\n",
    "SymPy is a library in python used for symbolic computations. The whole documentation can be found here: https://docs.sympy.org/. \n",
    "\n",
    "In order to start you first have to import sympy. this step has to be done every time you restart/open the kernel."
   ]
  },
  {
   "cell_type": "code",
   "execution_count": 1,
   "metadata": {},
   "outputs": [],
   "source": [
    "from sympy import * #import sympy library"
   ]
  },
  {
   "cell_type": "markdown",
   "metadata": {},
   "source": [
    "This next step isn't necessary, but it allows to ommit using the print() function every time to show a variable - even if it's not in the last line. Below is an example of what these lines do:"
   ]
  },
  {
   "cell_type": "code",
   "execution_count": 2,
   "metadata": {},
   "outputs": [],
   "source": [
    "from IPython.core.interactiveshell import InteractiveShell # print only the last element\n",
    "InteractiveShell.ast_node_interactivity = \"last\""
   ]
  },
  {
   "cell_type": "code",
   "execution_count": 3,
   "metadata": {},
   "outputs": [
    {
     "data": {
      "text/plain": [
       "3"
      ]
     },
     "execution_count": 3,
     "metadata": {},
     "output_type": "execute_result"
    }
   ],
   "source": [
    "a=1\n",
    "b=2\n",
    "c=3\n",
    "a\n",
    "b\n",
    "c"
   ]
  },
  {
   "cell_type": "code",
   "execution_count": 4,
   "metadata": {},
   "outputs": [],
   "source": [
    "from IPython.core.interactiveshell import InteractiveShell #print all elements, not only last one\n",
    "InteractiveShell.ast_node_interactivity = \"all\""
   ]
  },
  {
   "cell_type": "code",
   "execution_count": 5,
   "metadata": {},
   "outputs": [
    {
     "data": {
      "text/plain": [
       "1"
      ]
     },
     "execution_count": 5,
     "metadata": {},
     "output_type": "execute_result"
    },
    {
     "data": {
      "text/plain": [
       "2"
      ]
     },
     "execution_count": 5,
     "metadata": {},
     "output_type": "execute_result"
    },
    {
     "data": {
      "text/plain": [
       "3"
      ]
     },
     "execution_count": 5,
     "metadata": {},
     "output_type": "execute_result"
    }
   ],
   "source": [
    "a=1\n",
    "b=2\n",
    "c=3\n",
    "a\n",
    "b\n",
    "c"
   ]
  },
  {
   "cell_type": "markdown",
   "metadata": {},
   "source": [
    "This code formats the output in LaTeX, it is much more visible with complicated equations:"
   ]
  },
  {
   "cell_type": "code",
   "execution_count": 6,
   "metadata": {},
   "outputs": [],
   "source": [
    "x= symbols(\"x\")\n",
    "a=1234567890\n",
    "b=Integral(sqrt(1/x), x)"
   ]
  },
  {
   "cell_type": "code",
   "execution_count": 7,
   "metadata": {},
   "outputs": [
    {
     "data": {
      "text/plain": [
       "1234567890"
      ]
     },
     "execution_count": 7,
     "metadata": {},
     "output_type": "execute_result"
    },
    {
     "data": {
      "text/plain": [
       "Integral(sqrt(1/x), x)"
      ]
     },
     "execution_count": 7,
     "metadata": {},
     "output_type": "execute_result"
    }
   ],
   "source": [
    "a\n",
    "b #without formatting"
   ]
  },
  {
   "cell_type": "code",
   "execution_count": 8,
   "metadata": {},
   "outputs": [],
   "source": [
    "init_printing(use_unicode=True) # enable printing LaTeX in output"
   ]
  },
  {
   "cell_type": "code",
   "execution_count": 9,
   "metadata": {},
   "outputs": [
    {
     "data": {
      "image/png": "[encoded data removed]",
      "text/latex": [
       "$$1234567890$$"
      ],
      "text/plain": [
       "1234567890"
      ]
     },
     "execution_count": 9,
     "metadata": {},
     "output_type": "execute_result"
    },
    {
     "data": {
      "image/png": "[encoded data removed]",
      "text/latex": [
       "$$\\int \\sqrt{\\frac{1}{x}}\\, dx$$"
      ],
      "text/plain": [
       "⌠           \n",
       "⎮     ___   \n",
       "⎮    ╱ 1    \n",
       "⎮   ╱  ─  dx\n",
       "⎮ ╲╱   x    \n",
       "⌡           "
      ]
     },
     "execution_count": 9,
     "metadata": {},
     "output_type": "execute_result"
    }
   ],
   "source": [
    "a\n",
    "b #with formatting"
   ]
  },
  {
   "cell_type": "markdown",
   "metadata": {},
   "source": [
    "Thus at the beginning of each kernel, you should run this code to make sure everything works:"
   ]
  },
  {
   "cell_type": "code",
   "execution_count": 10,
   "metadata": {},
   "outputs": [],
   "source": [
    "from sympy import *\n",
    "from IPython.core.interactiveshell import InteractiveShell #print all elements, not only last one\n",
    "InteractiveShell.ast_node_interactivity = \"all\"\n",
    "init_printing(use_unicode=True)"
   ]
  }
 ],
 "metadata": {
  "kernelspec": {
   "display_name": "Python 3",
   "language": "python",
   "name": "python3"
  },
  "language_info": {
   "codemirror_mode": {
    "name": "ipython",
    "version": 3
   },
   "file_extension": ".py",
   "mimetype": "text/x-python",
   "name": "python",
   "nbconvert_exporter": "python",
   "pygments_lexer": "ipython3",
   "version": "3.7.0"
  }
 },
 "nbformat": 4,
 "nbformat_minor": 2
}
